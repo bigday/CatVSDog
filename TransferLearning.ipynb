{
 "cells": [
  {
   "cell_type": "markdown",
   "metadata": {},
   "source": [
    "# 迁移学习\n",
    "在 keras 预训练模型的基础上进行迁移学习。keras 中的模型：ResNet50、VGG16、Xception、Inception，等都在 ImageNet 上训练过，并取得了不错的准确率，在这些模型的网络基础上对猫狗数据集进行训练，以期快速提升准确率。"
   ]
  },
  {
   "cell_type": "code",
   "execution_count": 2,
   "metadata": {},
   "outputs": [
    {
     "name": "stderr",
     "output_type": "stream",
     "text": [
      "Using TensorFlow backend.\n"
     ]
    },
    {
     "name": "stdout",
     "output_type": "stream",
     "text": [
      "keras version = 2.1.5\n",
      "numpy version = 1.14.2\n",
      "tensorflow version = 1.6.0\n"
     ]
    }
   ],
   "source": [
    "import os\n",
    "import numpy as np\n",
    "import pandas as pd\n",
    "from PIL import Image\n",
    "from tqdm import tqdm\n",
    "import h5py\n",
    "import matplotlib.pyplot as plt\n",
    "%matplotlib inline\n",
    "%config InlineBackend.figure_format = 'retina'\n",
    "\n",
    "import keras\n",
    "from keras.models import *\n",
    "from keras.layers import *\n",
    "from keras.applications import *\n",
    "from keras.preprocessing.image import *\n",
    "from keras.optimizers import *\n",
    "from keras.callbacks import *\n",
    "\n",
    "print(\"keras version = %s\" % keras.__version__)\n",
    "print(\"numpy version = %s\" % np.__version__)\n",
    "print(\"tensorflow version = %s\" % tf.__version__)"
   ]
  },
  {
   "cell_type": "markdown",
   "metadata": {},
   "source": [
    "# 一、使用预训练模型\n",
    "* 构建函数，生成预训练模型"
   ]
  },
  {
   "cell_type": "code",
   "execution_count": 3,
   "metadata": {},
   "outputs": [],
   "source": [
    "def build_pretrain_model(MODEL, img_size=(299, 299), \n",
    "                         prepro_func=None, optim=None, weights=None, freezeto=0, dropout=0.25):\n",
    "    if MODEL == Xception and img_size[0] < 71:\n",
    "        raise \"Xception needs large size than 71\"\n",
    "    elif MODEL == VGG16 and img_size[0] < 48:\n",
    "        raise \"VGG16 needs larger size than 48\"\n",
    "    elif MODEL == VGG19 and img_size[0] < 48:\n",
    "        raise \"VGG19 needs larger size than 48\"\n",
    "    elif MODEL == ResNet50 and img_size[0] < 197:\n",
    "        raise \"ResNet50 needs larger size than 197\"\n",
    "    elif MODEL == InceptionV3 and img_size[0] < 139:\n",
    "        raise \"InceptionV3 needs larger size than 139\"\n",
    "    elif MODEL == InceptionResNetV2 and img_size[0] < 139:\n",
    "        raise \"InceptionResNetV2 needs larger size than 139\"\n",
    "        \n",
    "    input_tensor = Input(shape=(img_size[1], img_size[0], 3))\n",
    "    input_tensor = Lambda(prepro_func)(input_tensor)\n",
    "    base_model = MODEL(input_tensor=input_tensor, weights='imagenet', include_top=False)\n",
    "    \n",
    "    for layers in base_model.layers:\n",
    "        layers.trainable = False\n",
    "    if freezeto > 0 and freezeto < len(base_model.layers):\n",
    "        for layers in base_model.layers[freezeto:]:\n",
    "            layers.trainable = True\n",
    "    \n",
    "    x = GlobalAveragePooling2D()(base_model.output)\n",
    "    x = Dropout(dropout)(x)\n",
    "    x = Dense(1, activation='sigmoid', kernel_initializer='he_normal')(x)\n",
    "    \n",
    "    mymodel = Model(inputs=base_model.input, outputs=x)\n",
    "    optimizer = 'adadelta'\n",
    "    if optim is not None:\n",
    "        optimizer = optim\n",
    "    mymodel.compile(optimizer=optimizer, loss='binary_crossentropy', metrics=['accuracy'])\n",
    "    if weights is not None:\n",
    "        mymodel.load_weights(weights)\n",
    "    print('%s has %d layers.' % (MODEL.__name__, len(mymodel.layers)))\n",
    "    return mymodel"
   ]
  },
  {
   "cell_type": "code",
   "execution_count": 4,
   "metadata": {},
   "outputs": [
    {
     "name": "stdout",
     "output_type": "stream",
     "text": [
      "Found 19848 images belonging to 2 classes.\n",
      "Found 4961 images belonging to 2 classes.\n",
      "Found 12500 images belonging to 1 classes.\n"
     ]
    }
   ],
   "source": [
    "img_gen = ImageDataGenerator(validation_split=0.2)\n",
    "test_gen = ImageDataGenerator()\n",
    "batch_size = 64\n",
    "\n",
    "def build_generator(gen=img_gen, img_size=(299, 299), batch_size=32):\n",
    "    train_generator = gen.flow_from_directory(directory='train3', \n",
    "                                              class_mode='binary', \n",
    "                                              target_size=img_size, \n",
    "                                              batch_size=batch_size,\n",
    "                                              shuffle=True,\n",
    "                                              seed=42,\n",
    "                                              subset='training')\n",
    "    valid_generator = gen.flow_from_directory(directory='train3', \n",
    "                                              class_mode='binary', \n",
    "                                              target_size=img_size, \n",
    "                                              batch_size=batch_size, \n",
    "                                              shuffle=True,\n",
    "                                              seed=42,\n",
    "                                              subset='validation')\n",
    "    test_generator = test_gen.flow_from_directory(directory='test2',\n",
    "                                                  class_mode=None,\n",
    "                                                  target_size=img_size,\n",
    "                                                  batch_size=batch_size,\n",
    "                                                  shuffle=False,\n",
    "                                                  subset=None)\n",
    "    return train_generator, valid_generator, test_generator\n",
    "\n",
    "train_generator, valid_generator, test_generator = build_generator(batch_size=batch_size)"
   ]
  },
  {
   "cell_type": "code",
   "execution_count": 5,
   "metadata": {},
   "outputs": [],
   "source": [
    "class LossHistory(keras.callbacks.Callback):\n",
    "    def on_train_begin(self, logs={}):\n",
    "        self.losses = []\n",
    "        self.accs = []\n",
    "\n",
    "    def on_batch_end(self, batch, logs={}):\n",
    "        self.losses.append(logs.get('loss'))\n",
    "        self.accs.append(logs.get('acc'))\n"
   ]
  },
  {
   "cell_type": "code",
   "execution_count": 6,
   "metadata": {},
   "outputs": [],
   "source": [
    "def plot_hist(name='', hist=[]):\n",
    "    t1 = np.arange(len(hist['acc']))\n",
    "    t2 = np.arange(len(hist['loss']))\n",
    "    fig, (ax0, ax1) = plt.subplots(2, 1)\n",
    "\n",
    "    l1, l2 = ax0.plot(t1, hist['acc'], t1, hist['val_acc'])\n",
    "    l3, l4 = ax1.plot(t2, hist['loss'], t2, hist['val_loss'])\n",
    "    \n",
    "    ax0.set_title('%s Learning history' % name)\n",
    "    ax0.legend((l1, l2), ('acc', 'val_acc'), loc='best', shadow=True)\n",
    "    ax1.legend((l3, l4), ('loss', 'val_loss'), loc='best', shadow=True)\n",
    "    plt.show()"
   ]
  },
  {
   "cell_type": "markdown",
   "metadata": {},
   "source": [
    "### 1、Xception  预训练模型"
   ]
  },
  {
   "cell_type": "code",
   "execution_count": 15,
   "metadata": {},
   "outputs": [
    {
     "name": "stdout",
     "output_type": "stream",
     "text": [
      "Xception has 136 layers.\n",
      "Epoch 1/5\n",
      "156/156 [==============================] - 156s 1s/step - loss: 0.1627 - acc: 0.9721 - val_loss: 0.1035 - val_acc: 0.9796\n",
      "Epoch 2/5\n",
      "156/156 [==============================] - 147s 942ms/step - loss: 0.0562 - acc: 0.9874 - val_loss: 0.0873 - val_acc: 0.9782\n",
      "Epoch 3/5\n",
      "156/156 [==============================] - 147s 940ms/step - loss: 0.0411 - acc: 0.9886 - val_loss: 0.0858 - val_acc: 0.9768\n",
      "Epoch 4/5\n",
      "156/156 [==============================] - 147s 940ms/step - loss: 0.0343 - acc: 0.9899 - val_loss: 0.0752 - val_acc: 0.9809\n",
      "Epoch 5/5\n",
      "156/156 [==============================] - 147s 945ms/step - loss: 0.0358 - acc: 0.9894 - val_loss: 0.0781 - val_acc: 0.9796\n"
     ]
    }
   ],
   "source": [
    "np.random.seed(42)\n",
    "modelck_xce = ModelCheckpoint('xception_weights.{epoch:02d}-{val_loss:.2f}.hdf5', \n",
    "                              save_best_only=True, \n",
    "                              save_weights_only=True)\n",
    "xception_model = build_pretrain_model(Xception, img_size=(299, 299),\n",
    "                                      prepro_func=xception.preprocess_input)\n",
    "hist_xce = xception_model.fit_generator(train_generator, epochs=5, \n",
    "                                        validation_data=valid_generator, \n",
    "                                        callbacks=[modelck_xce])"
   ]
  },
  {
   "cell_type": "markdown",
   "metadata": {},
   "source": [
    "#### 观察模型训练过程："
   ]
  },
  {
   "cell_type": "code",
   "execution_count": 16,
   "metadata": {},
   "outputs": [
    {
     "data": {
      "image/png": "[encoded data removed]",
      "text/plain": [
       "<Figure size 432x288 with 2 Axes>"
      ]
     },
     "metadata": {
      "image/png": {
       "height": 263,
       "width": 380
      }
     },
     "output_type": "display_data"
    }
   ],
   "source": [
    "plot_hist('xception ', hist_xce.history)"
   ]
  },
  {
   "cell_type": "markdown",
   "metadata": {},
   "source": [
    "#### 检查模型在测试集上的预测结果："
   ]
  },
  {
   "cell_type": "code",
   "execution_count": 17,
   "metadata": {},
   "outputs": [
    {
     "name": "stdout",
     "output_type": "stream",
     "text": [
      "98/98 [==============================] - 77s 786ms/step\n"
     ]
    }
   ],
   "source": [
    "y_pred = xception_model.predict_generator(test_generator, verbose=1)\n",
    "y_pred = y_pred.clip(min=0.005, max=0.995)"
   ]
  },
  {
   "cell_type": "code",
   "execution_count": 18,
   "metadata": {},
   "outputs": [
    {
     "data": {
      "text/html": [
       "<div>\n",
       "<style scoped>\n",
       "    .dataframe tbody tr th:only-of-type {\n",
       "        vertical-align: middle;\n",
       "    }\n",
       "\n",
       "    .dataframe tbody tr th {\n",
       "        vertical-align: top;\n",
       "    }\n",
       "\n",
       "    .dataframe thead th {\n",
       "        text-align: right;\n",
       "    }\n",
       "</style>\n",
       "<table border=\"1\" class=\"dataframe\">\n",
       "  <thead>\n",
       "    <tr style=\"text-align: right;\">\n",
       "      <th></th>\n",
       "      <th>id</th>\n",
       "      <th>label</th>\n",
       "    </tr>\n",
       "  </thead>\n",
       "  <tbody>\n",
       "    <tr>\n",
       "      <th>0</th>\n",
       "      <td>1</td>\n",
       "      <td>0.975608</td>\n",
       "    </tr>\n",
       "    <tr>\n",
       "      <th>1</th>\n",
       "      <td>2</td>\n",
       "      <td>0.995000</td>\n",
       "    </tr>\n",
       "    <tr>\n",
       "      <th>2</th>\n",
       "      <td>3</td>\n",
       "      <td>0.995000</td>\n",
       "    </tr>\n",
       "    <tr>\n",
       "      <th>3</th>\n",
       "      <td>4</td>\n",
       "      <td>0.987690</td>\n",
       "    </tr>\n",
       "    <tr>\n",
       "      <th>4</th>\n",
       "      <td>5</td>\n",
       "      <td>0.005000</td>\n",
       "    </tr>\n",
       "    <tr>\n",
       "      <th>5</th>\n",
       "      <td>6</td>\n",
       "      <td>0.005000</td>\n",
       "    </tr>\n",
       "    <tr>\n",
       "      <th>6</th>\n",
       "      <td>7</td>\n",
       "      <td>0.005000</td>\n",
       "    </tr>\n",
       "    <tr>\n",
       "      <th>7</th>\n",
       "      <td>8</td>\n",
       "      <td>0.005000</td>\n",
       "    </tr>\n",
       "    <tr>\n",
       "      <th>8</th>\n",
       "      <td>9</td>\n",
       "      <td>0.005000</td>\n",
       "    </tr>\n",
       "    <tr>\n",
       "      <th>9</th>\n",
       "      <td>10</td>\n",
       "      <td>0.005000</td>\n",
       "    </tr>\n",
       "  </tbody>\n",
       "</table>\n",
       "</div>"
      ],
      "text/plain": [
       "   id     label\n",
       "0   1  0.975608\n",
       "1   2  0.995000\n",
       "2   3  0.995000\n",
       "3   4  0.987690\n",
       "4   5  0.005000\n",
       "5   6  0.005000\n",
       "6   7  0.005000\n",
       "7   8  0.005000\n",
       "8   9  0.005000\n",
       "9  10  0.005000"
      ]
     },
     "execution_count": 18,
     "metadata": {},
     "output_type": "execute_result"
    }
   ],
   "source": [
    "xce_pred = pd.read_csv(\"sample_submission.csv\")\n",
    "for i, fname in enumerate(test_generator.filenames):\n",
    "    index = int(fname[fname.rfind('/')+1:fname.rfind('.')])\n",
    "    xce_pred.at[index-1, 'label'] = y_pred[i]\n",
    "xce_pred.to_csv('xce_pred.csv', index=False)\n",
    "xce_pred.head(10)"
   ]
  },
  {
   "cell_type": "markdown",
   "metadata": {},
   "source": [
    "### 2、VGG16预训练模型"
   ]
  },
  {
   "cell_type": "code",
   "execution_count": 20,
   "metadata": {},
   "outputs": [
    {
     "name": "stdout",
     "output_type": "stream",
     "text": [
      "Found 19848 images belonging to 2 classes.\n",
      "Found 4961 images belonging to 2 classes.\n",
      "Found 12500 images belonging to 1 classes.\n",
      "VGG16 has 23 layers.\n",
      "Epoch 1/5\n",
      "156/156 [==============================] - 145s 930ms/step - loss: 0.5427 - acc: 0.8815 - val_loss: 0.0946 - val_acc: 0.9710\n",
      "Epoch 2/5\n",
      "156/156 [==============================] - 135s 864ms/step - loss: 0.1315 - acc: 0.9627 - val_loss: 0.0620 - val_acc: 0.9809\n",
      "Epoch 3/5\n",
      "156/156 [==============================] - 135s 868ms/step - loss: 0.0925 - acc: 0.9714 - val_loss: 0.0502 - val_acc: 0.9839\n",
      "Epoch 4/5\n",
      "156/156 [==============================] - 135s 868ms/step - loss: 0.0769 - acc: 0.9766 - val_loss: 0.0454 - val_acc: 0.9853\n",
      "Epoch 5/5\n",
      "156/156 [==============================] - 135s 868ms/step - loss: 0.0630 - acc: 0.9807 - val_loss: 0.0436 - val_acc: 0.9857\n"
     ]
    }
   ],
   "source": [
    "train_generator, valid_generator, test_generator = build_generator(batch_size=batch_size, img_size=(224, 224))\n",
    "modelck_vgg = ModelCheckpoint('VGG16_weights.{epoch:02d}-{val_loss:.2f}.hdf5', \n",
    "                              save_best_only=True, \n",
    "                              save_weights_only=True)\n",
    "vgg_model = build_pretrain_model(VGG16, img_size=(224, 224),\n",
    "                                 prepro_func=vgg16.preprocess_input)\n",
    "hist_vgg = vgg_model.fit_generator(train_generator, epochs=5, \n",
    "                                   validation_data=valid_generator, \n",
    "                                   callbacks=[modelck_vgg])"
   ]
  },
  {
   "cell_type": "markdown",
   "metadata": {},
   "source": [
    "#### 观察模型训练过程："
   ]
  },
  {
   "cell_type": "code",
   "execution_count": 21,
   "metadata": {},
   "outputs": [
    {
     "data": {
      "image/png": "[encoded data removed]",
      "text/plain": [
       "<Figure size 432x288 with 2 Axes>"
      ]
     },
     "metadata": {
      "image/png": {
       "height": 263,
       "width": 380
      }
     },
     "output_type": "display_data"
    }
   ],
   "source": [
    "plot_hist('VGG16 ', hist_vgg.history)"
   ]
  },
  {
   "cell_type": "markdown",
   "metadata": {},
   "source": [
    "#### 检查模型在测试集上的预测结果："
   ]
  },
  {
   "cell_type": "code",
   "execution_count": 23,
   "metadata": {},
   "outputs": [
    {
     "name": "stdout",
     "output_type": "stream",
     "text": [
      "98/98 [==============================] - 73s 747ms/step\n"
     ]
    },
    {
     "data": {
      "text/html": [
       "<div>\n",
       "<style scoped>\n",
       "    .dataframe tbody tr th:only-of-type {\n",
       "        vertical-align: middle;\n",
       "    }\n",
       "\n",
       "    .dataframe tbody tr th {\n",
       "        vertical-align: top;\n",
       "    }\n",
       "\n",
       "    .dataframe thead th {\n",
       "        text-align: right;\n",
       "    }\n",
       "</style>\n",
       "<table border=\"1\" class=\"dataframe\">\n",
       "  <thead>\n",
       "    <tr style=\"text-align: right;\">\n",
       "      <th></th>\n",
       "      <th>id</th>\n",
       "      <th>label</th>\n",
       "    </tr>\n",
       "  </thead>\n",
       "  <tbody>\n",
       "    <tr>\n",
       "      <th>0</th>\n",
       "      <td>1</td>\n",
       "      <td>0.995</td>\n",
       "    </tr>\n",
       "    <tr>\n",
       "      <th>1</th>\n",
       "      <td>2</td>\n",
       "      <td>0.995</td>\n",
       "    </tr>\n",
       "    <tr>\n",
       "      <th>2</th>\n",
       "      <td>3</td>\n",
       "      <td>0.995</td>\n",
       "    </tr>\n",
       "    <tr>\n",
       "      <th>3</th>\n",
       "      <td>4</td>\n",
       "      <td>0.995</td>\n",
       "    </tr>\n",
       "    <tr>\n",
       "      <th>4</th>\n",
       "      <td>5</td>\n",
       "      <td>0.005</td>\n",
       "    </tr>\n",
       "    <tr>\n",
       "      <th>5</th>\n",
       "      <td>6</td>\n",
       "      <td>0.005</td>\n",
       "    </tr>\n",
       "    <tr>\n",
       "      <th>6</th>\n",
       "      <td>7</td>\n",
       "      <td>0.005</td>\n",
       "    </tr>\n",
       "    <tr>\n",
       "      <th>7</th>\n",
       "      <td>8</td>\n",
       "      <td>0.005</td>\n",
       "    </tr>\n",
       "    <tr>\n",
       "      <th>8</th>\n",
       "      <td>9</td>\n",
       "      <td>0.005</td>\n",
       "    </tr>\n",
       "    <tr>\n",
       "      <th>9</th>\n",
       "      <td>10</td>\n",
       "      <td>0.005</td>\n",
       "    </tr>\n",
       "  </tbody>\n",
       "</table>\n",
       "</div>"
      ],
      "text/plain": [
       "   id  label\n",
       "0   1  0.995\n",
       "1   2  0.995\n",
       "2   3  0.995\n",
       "3   4  0.995\n",
       "4   5  0.005\n",
       "5   6  0.005\n",
       "6   7  0.005\n",
       "7   8  0.005\n",
       "8   9  0.005\n",
       "9  10  0.005"
      ]
     },
     "execution_count": 23,
     "metadata": {},
     "output_type": "execute_result"
    }
   ],
   "source": [
    "y_pred = vgg_model.predict_generator(test_generator, verbose=1)\n",
    "y_pred = y_pred.clip(min=0.005, max=0.995)\n",
    "\n",
    "vgg_pred = pd.read_csv(\"sample_submission.csv\")\n",
    "for i, fname in enumerate(test_generator.filenames):\n",
    "    index = int(fname[fname.rfind('/')+1:fname.rfind('.')])\n",
    "    vgg_pred.at[index-1, 'label'] = y_pred[i]\n",
    "vgg_pred.to_csv('vgg_pred.csv', index=False)\n",
    "vgg_pred.head(10)"
   ]
  },
  {
   "cell_type": "markdown",
   "metadata": {},
   "source": [
    "### 3、InceptionResNetV2预训练模型"
   ]
  },
  {
   "cell_type": "code",
   "execution_count": 24,
   "metadata": {},
   "outputs": [
    {
     "name": "stdout",
     "output_type": "stream",
     "text": [
      "Found 19848 images belonging to 2 classes.\n",
      "Found 4961 images belonging to 2 classes.\n",
      "Found 12500 images belonging to 1 classes.\n",
      "Downloading data from https://github.com/fchollet/deep-learning-models/releases/download/v0.7/inception_resnet_v2_weights_tf_dim_ordering_tf_kernels_notop.h5\n",
      "219062272/219055592 [==============================] - 3s 0us/step\n",
      "InceptionResNetV2 has 784 layers.\n",
      "Epoch 1/5\n",
      "156/156 [==============================] - 166s 1s/step - loss: 0.1964 - acc: 0.9530 - val_loss: 0.0735 - val_acc: 0.9863\n",
      "Epoch 2/5\n",
      "156/156 [==============================] - 156s 999ms/step - loss: 0.0838 - acc: 0.9792 - val_loss: 0.0696 - val_acc: 0.9833\n",
      "Epoch 3/5\n",
      "156/156 [==============================] - 156s 998ms/step - loss: 0.0624 - acc: 0.9819 - val_loss: 0.0810 - val_acc: 0.9782\n",
      "Epoch 4/5\n",
      "156/156 [==============================] - 155s 994ms/step - loss: 0.0565 - acc: 0.9811 - val_loss: 0.0762 - val_acc: 0.9792\n",
      "Epoch 5/5\n",
      "156/156 [==============================] - 156s 999ms/step - loss: 0.0507 - acc: 0.9836 - val_loss: 0.0651 - val_acc: 0.9845\n"
     ]
    }
   ],
   "source": [
    "train_generator, valid_generator, test_generator = build_generator(batch_size=batch_size, img_size=(299, 299))\n",
    "modelck_irv2 = ModelCheckpoint('InReV2_weights.{epoch:02d}-{val_loss:.2f}.hdf5', \n",
    "                               save_best_only=True, \n",
    "                               save_weights_only=True)\n",
    "irv2_model = build_pretrain_model(InceptionResNetV2, img_size=(299, 299),\n",
    "                                  prepro_func=inception_resnet_v2.preprocess_input)\n",
    "hist_irv2 = irv2_model.fit_generator(train_generator, epochs=5, \n",
    "                                     validation_data=valid_generator, \n",
    "                                     callbacks=[modelck_irv2])"
   ]
  },
  {
   "cell_type": "markdown",
   "metadata": {},
   "source": [
    "#### 观察模型训练结果："
   ]
  },
  {
   "cell_type": "code",
   "execution_count": 25,
   "metadata": {},
   "outputs": [
    {
     "data": {
      "image/png": "[encoded data removed]",
      "text/plain": [
       "<Figure size 432x288 with 2 Axes>"
      ]
     },
     "metadata": {
      "image/png": {
       "height": 263,
       "width": 380
      }
     },
     "output_type": "display_data"
    }
   ],
   "source": [
    "plot_hist('InReV2 ', hist_irv2.history)"
   ]
  },
  {
   "cell_type": "markdown",
   "metadata": {},
   "source": [
    "#### 检查模型在测试集上的预测结果："
   ]
  },
  {
   "cell_type": "code",
   "execution_count": 26,
   "metadata": {},
   "outputs": [
    {
     "name": "stdout",
     "output_type": "stream",
     "text": [
      "98/98 [==============================] - 83s 847ms/step\n"
     ]
    },
    {
     "data": {
      "text/html": [
       "<div>\n",
       "<style scoped>\n",
       "    .dataframe tbody tr th:only-of-type {\n",
       "        vertical-align: middle;\n",
       "    }\n",
       "\n",
       "    .dataframe tbody tr th {\n",
       "        vertical-align: top;\n",
       "    }\n",
       "\n",
       "    .dataframe thead th {\n",
       "        text-align: right;\n",
       "    }\n",
       "</style>\n",
       "<table border=\"1\" class=\"dataframe\">\n",
       "  <thead>\n",
       "    <tr style=\"text-align: right;\">\n",
       "      <th></th>\n",
       "      <th>id</th>\n",
       "      <th>label</th>\n",
       "    </tr>\n",
       "  </thead>\n",
       "  <tbody>\n",
       "    <tr>\n",
       "      <th>0</th>\n",
       "      <td>1</td>\n",
       "      <td>0.983484</td>\n",
       "    </tr>\n",
       "    <tr>\n",
       "      <th>1</th>\n",
       "      <td>2</td>\n",
       "      <td>0.981847</td>\n",
       "    </tr>\n",
       "    <tr>\n",
       "      <th>2</th>\n",
       "      <td>3</td>\n",
       "      <td>0.982230</td>\n",
       "    </tr>\n",
       "    <tr>\n",
       "      <th>3</th>\n",
       "      <td>4</td>\n",
       "      <td>0.989512</td>\n",
       "    </tr>\n",
       "    <tr>\n",
       "      <th>4</th>\n",
       "      <td>5</td>\n",
       "      <td>0.005000</td>\n",
       "    </tr>\n",
       "    <tr>\n",
       "      <th>5</th>\n",
       "      <td>6</td>\n",
       "      <td>0.005000</td>\n",
       "    </tr>\n",
       "    <tr>\n",
       "      <th>6</th>\n",
       "      <td>7</td>\n",
       "      <td>0.005000</td>\n",
       "    </tr>\n",
       "    <tr>\n",
       "      <th>7</th>\n",
       "      <td>8</td>\n",
       "      <td>0.005000</td>\n",
       "    </tr>\n",
       "    <tr>\n",
       "      <th>8</th>\n",
       "      <td>9</td>\n",
       "      <td>0.005000</td>\n",
       "    </tr>\n",
       "    <tr>\n",
       "      <th>9</th>\n",
       "      <td>10</td>\n",
       "      <td>0.005000</td>\n",
       "    </tr>\n",
       "  </tbody>\n",
       "</table>\n",
       "</div>"
      ],
      "text/plain": [
       "   id     label\n",
       "0   1  0.983484\n",
       "1   2  0.981847\n",
       "2   3  0.982230\n",
       "3   4  0.989512\n",
       "4   5  0.005000\n",
       "5   6  0.005000\n",
       "6   7  0.005000\n",
       "7   8  0.005000\n",
       "8   9  0.005000\n",
       "9  10  0.005000"
      ]
     },
     "execution_count": 26,
     "metadata": {},
     "output_type": "execute_result"
    }
   ],
   "source": [
    "y_pred = irv2_model.predict_generator(test_generator, verbose=1)\n",
    "y_pred = y_pred.clip(min=0.005, max=0.995)\n",
    "\n",
    "irv2_pred = pd.read_csv(\"sample_submission.csv\")\n",
    "for i, fname in enumerate(test_generator.filenames):\n",
    "    index = int(fname[fname.rfind('/')+1:fname.rfind('.')])\n",
    "    irv2_pred.at[index-1, 'label'] = y_pred[i]\n",
    "irv2_pred.to_csv('irv2_pred.csv', index=False)\n",
    "irv2_pred.head(10)"
   ]
  },
  {
   "cell_type": "markdown",
   "metadata": {},
   "source": [
    "# 二、微调模型"
   ]
  },
  {
   "cell_type": "code",
   "execution_count": 27,
   "metadata": {},
   "outputs": [
    {
     "name": "stdout",
     "output_type": "stream",
     "text": [
      "_________________________________________________________________\n",
      "Layer (type)                 Output Shape              Param #   \n",
      "=================================================================\n",
      "input_7 (InputLayer)         (None, 224, 224, 3)       0         \n",
      "_________________________________________________________________\n",
      "lambda_7 (Lambda)            (None, 224, 224, 3)       0         \n",
      "_________________________________________________________________\n",
      "block1_conv1 (Conv2D)        (None, 224, 224, 64)      1792      \n",
      "_________________________________________________________________\n",
      "block1_conv2 (Conv2D)        (None, 224, 224, 64)      36928     \n",
      "_________________________________________________________________\n",
      "block1_pool (MaxPooling2D)   (None, 112, 112, 64)      0         \n",
      "_________________________________________________________________\n",
      "block2_conv1 (Conv2D)        (None, 112, 112, 128)     73856     \n",
      "_________________________________________________________________\n",
      "block2_conv2 (Conv2D)        (None, 112, 112, 128)     147584    \n",
      "_________________________________________________________________\n",
      "block2_pool (MaxPooling2D)   (None, 56, 56, 128)       0         \n",
      "_________________________________________________________________\n",
      "block3_conv1 (Conv2D)        (None, 56, 56, 256)       295168    \n",
      "_________________________________________________________________\n",
      "block3_conv2 (Conv2D)        (None, 56, 56, 256)       590080    \n",
      "_________________________________________________________________\n",
      "block3_conv3 (Conv2D)        (None, 56, 56, 256)       590080    \n",
      "_________________________________________________________________\n",
      "block3_pool (MaxPooling2D)   (None, 28, 28, 256)       0         \n",
      "_________________________________________________________________\n",
      "block4_conv1 (Conv2D)        (None, 28, 28, 512)       1180160   \n",
      "_________________________________________________________________\n",
      "block4_conv2 (Conv2D)        (None, 28, 28, 512)       2359808   \n",
      "_________________________________________________________________\n",
      "block4_conv3 (Conv2D)        (None, 28, 28, 512)       2359808   \n",
      "_________________________________________________________________\n",
      "block4_pool (MaxPooling2D)   (None, 14, 14, 512)       0         \n",
      "_________________________________________________________________\n",
      "block5_conv1 (Conv2D)        (None, 14, 14, 512)       2359808   \n",
      "_________________________________________________________________\n",
      "block5_conv2 (Conv2D)        (None, 14, 14, 512)       2359808   \n",
      "_________________________________________________________________\n",
      "block5_conv3 (Conv2D)        (None, 14, 14, 512)       2359808   \n",
      "_________________________________________________________________\n",
      "block5_pool (MaxPooling2D)   (None, 7, 7, 512)         0         \n",
      "_________________________________________________________________\n",
      "global_average_pooling2d_7 ( (None, 512)               0         \n",
      "_________________________________________________________________\n",
      "dropout_7 (Dropout)          (None, 512)               0         \n",
      "_________________________________________________________________\n",
      "dense_7 (Dense)              (None, 1)                 513       \n",
      "=================================================================\n",
      "Total params: 14,715,201\n",
      "Trainable params: 513\n",
      "Non-trainable params: 14,714,688\n",
      "_________________________________________________________________\n"
     ]
    }
   ],
   "source": [
    "vgg_model.summary()"
   ]
  },
  {
   "cell_type": "code",
   "execution_count": 9,
   "metadata": {},
   "outputs": [
    {
     "name": "stdout",
     "output_type": "stream",
     "text": [
      "Found 19848 images belonging to 2 classes.\n",
      "Found 4961 images belonging to 2 classes.\n",
      "Found 12500 images belonging to 1 classes.\n",
      "VGG16 has 23 layers.\n",
      "Epoch 1/5\n"
     ]
    },
    {
     "ename": "KeyboardInterrupt",
     "evalue": "",
     "output_type": "error",
     "traceback": [
      "\u001b[0;31m---------------------------------------------------------------------------\u001b[0m",
      "\u001b[0;31mKeyboardInterrupt\u001b[0m                         Traceback (most recent call last)",
      "\u001b[0;32m<ipython-input-9-3a223747a94e>\u001b[0m in \u001b[0;36m<module>\u001b[0;34m()\u001b[0m\n\u001b[1;32m     22\u001b[0m hist_ft = finetune_model.fit_generator(train_generator, epochs=5, \n\u001b[1;32m     23\u001b[0m                                        \u001b[0mvalidation_data\u001b[0m\u001b[0;34m=\u001b[0m\u001b[0mvalid_generator\u001b[0m\u001b[0;34m,\u001b[0m\u001b[0;34m\u001b[0m\u001b[0m\n\u001b[0;32m---> 24\u001b[0;31m                                        callbacks=[early_stop, modelck_ft, reduce_lr, tensor_board])\n\u001b[0m",
      "\u001b[0;32m~/anaconda/envs/py3/lib/python3.6/site-packages/keras/legacy/interfaces.py\u001b[0m in \u001b[0;36mwrapper\u001b[0;34m(*args, **kwargs)\u001b[0m\n\u001b[1;32m     89\u001b[0m                 warnings.warn('Update your `' + object_name +\n\u001b[1;32m     90\u001b[0m                               '` call to the Keras 2 API: ' + signature, stacklevel=2)\n\u001b[0;32m---> 91\u001b[0;31m             \u001b[0;32mreturn\u001b[0m \u001b[0mfunc\u001b[0m\u001b[0;34m(\u001b[0m\u001b[0;34m*\u001b[0m\u001b[0margs\u001b[0m\u001b[0;34m,\u001b[0m \u001b[0;34m**\u001b[0m\u001b[0mkwargs\u001b[0m\u001b[0;34m)\u001b[0m\u001b[0;34m\u001b[0m\u001b[0m\n\u001b[0m\u001b[1;32m     92\u001b[0m         \u001b[0mwrapper\u001b[0m\u001b[0;34m.\u001b[0m\u001b[0m_original_function\u001b[0m \u001b[0;34m=\u001b[0m \u001b[0mfunc\u001b[0m\u001b[0;34m\u001b[0m\u001b[0m\n\u001b[1;32m     93\u001b[0m         \u001b[0;32mreturn\u001b[0m \u001b[0mwrapper\u001b[0m\u001b[0;34m\u001b[0m\u001b[0m\n",
      "\u001b[0;32m~/anaconda/envs/py3/lib/python3.6/site-packages/keras/engine/training.py\u001b[0m in \u001b[0;36mfit_generator\u001b[0;34m(self, generator, steps_per_epoch, epochs, verbose, callbacks, validation_data, validation_steps, class_weight, max_queue_size, workers, use_multiprocessing, shuffle, initial_epoch)\u001b[0m\n\u001b[1;32m   2222\u001b[0m                     outs = self.train_on_batch(x, y,\n\u001b[1;32m   2223\u001b[0m                                                \u001b[0msample_weight\u001b[0m\u001b[0;34m=\u001b[0m\u001b[0msample_weight\u001b[0m\u001b[0;34m,\u001b[0m\u001b[0;34m\u001b[0m\u001b[0m\n\u001b[0;32m-> 2224\u001b[0;31m                                                class_weight=class_weight)\n\u001b[0m\u001b[1;32m   2225\u001b[0m \u001b[0;34m\u001b[0m\u001b[0m\n\u001b[1;32m   2226\u001b[0m                     \u001b[0;32mif\u001b[0m \u001b[0;32mnot\u001b[0m \u001b[0misinstance\u001b[0m\u001b[0;34m(\u001b[0m\u001b[0mouts\u001b[0m\u001b[0;34m,\u001b[0m \u001b[0mlist\u001b[0m\u001b[0;34m)\u001b[0m\u001b[0;34m:\u001b[0m\u001b[0;34m\u001b[0m\u001b[0m\n",
      "\u001b[0;32m~/anaconda/envs/py3/lib/python3.6/site-packages/keras/engine/training.py\u001b[0m in \u001b[0;36mtrain_on_batch\u001b[0;34m(self, x, y, sample_weight, class_weight)\u001b[0m\n\u001b[1;32m   1881\u001b[0m             \u001b[0mins\u001b[0m \u001b[0;34m=\u001b[0m \u001b[0mx\u001b[0m \u001b[0;34m+\u001b[0m \u001b[0my\u001b[0m \u001b[0;34m+\u001b[0m \u001b[0msample_weights\u001b[0m\u001b[0;34m\u001b[0m\u001b[0m\n\u001b[1;32m   1882\u001b[0m         \u001b[0mself\u001b[0m\u001b[0;34m.\u001b[0m\u001b[0m_make_train_function\u001b[0m\u001b[0;34m(\u001b[0m\u001b[0;34m)\u001b[0m\u001b[0;34m\u001b[0m\u001b[0m\n\u001b[0;32m-> 1883\u001b[0;31m         \u001b[0moutputs\u001b[0m \u001b[0;34m=\u001b[0m \u001b[0mself\u001b[0m\u001b[0;34m.\u001b[0m\u001b[0mtrain_function\u001b[0m\u001b[0;34m(\u001b[0m\u001b[0mins\u001b[0m\u001b[0;34m)\u001b[0m\u001b[0;34m\u001b[0m\u001b[0m\n\u001b[0m\u001b[1;32m   1884\u001b[0m         \u001b[0;32mif\u001b[0m \u001b[0mlen\u001b[0m\u001b[0;34m(\u001b[0m\u001b[0moutputs\u001b[0m\u001b[0;34m)\u001b[0m \u001b[0;34m==\u001b[0m \u001b[0;36m1\u001b[0m\u001b[0;34m:\u001b[0m\u001b[0;34m\u001b[0m\u001b[0m\n\u001b[1;32m   1885\u001b[0m             \u001b[0;32mreturn\u001b[0m \u001b[0moutputs\u001b[0m\u001b[0;34m[\u001b[0m\u001b[0;36m0\u001b[0m\u001b[0;34m]\u001b[0m\u001b[0;34m\u001b[0m\u001b[0m\n",
      "\u001b[0;32m~/anaconda/envs/py3/lib/python3.6/site-packages/keras/backend/tensorflow_backend.py\u001b[0m in \u001b[0;36m__call__\u001b[0;34m(self, inputs)\u001b[0m\n\u001b[1;32m   2476\u001b[0m         \u001b[0msession\u001b[0m \u001b[0;34m=\u001b[0m \u001b[0mget_session\u001b[0m\u001b[0;34m(\u001b[0m\u001b[0;34m)\u001b[0m\u001b[0;34m\u001b[0m\u001b[0m\n\u001b[1;32m   2477\u001b[0m         updated = session.run(fetches=fetches, feed_dict=feed_dict,\n\u001b[0;32m-> 2478\u001b[0;31m                               **self.session_kwargs)\n\u001b[0m\u001b[1;32m   2479\u001b[0m         \u001b[0;32mreturn\u001b[0m \u001b[0mupdated\u001b[0m\u001b[0;34m[\u001b[0m\u001b[0;34m:\u001b[0m\u001b[0mlen\u001b[0m\u001b[0;34m(\u001b[0m\u001b[0mself\u001b[0m\u001b[0;34m.\u001b[0m\u001b[0moutputs\u001b[0m\u001b[0;34m)\u001b[0m\u001b[0;34m]\u001b[0m\u001b[0;34m\u001b[0m\u001b[0m\n\u001b[1;32m   2480\u001b[0m \u001b[0;34m\u001b[0m\u001b[0m\n",
      "\u001b[0;32m~/anaconda/envs/py3/lib/python3.6/site-packages/tensorflow/python/client/session.py\u001b[0m in \u001b[0;36mrun\u001b[0;34m(self, fetches, feed_dict, options, run_metadata)\u001b[0m\n\u001b[1;32m    903\u001b[0m     \u001b[0;32mtry\u001b[0m\u001b[0;34m:\u001b[0m\u001b[0;34m\u001b[0m\u001b[0m\n\u001b[1;32m    904\u001b[0m       result = self._run(None, fetches, feed_dict, options_ptr,\n\u001b[0;32m--> 905\u001b[0;31m                          run_metadata_ptr)\n\u001b[0m\u001b[1;32m    906\u001b[0m       \u001b[0;32mif\u001b[0m \u001b[0mrun_metadata\u001b[0m\u001b[0;34m:\u001b[0m\u001b[0;34m\u001b[0m\u001b[0m\n\u001b[1;32m    907\u001b[0m         \u001b[0mproto_data\u001b[0m \u001b[0;34m=\u001b[0m \u001b[0mtf_session\u001b[0m\u001b[0;34m.\u001b[0m\u001b[0mTF_GetBuffer\u001b[0m\u001b[0;34m(\u001b[0m\u001b[0mrun_metadata_ptr\u001b[0m\u001b[0;34m)\u001b[0m\u001b[0;34m\u001b[0m\u001b[0m\n",
      "\u001b[0;32m~/anaconda/envs/py3/lib/python3.6/site-packages/tensorflow/python/client/session.py\u001b[0m in \u001b[0;36m_run\u001b[0;34m(self, handle, fetches, feed_dict, options, run_metadata)\u001b[0m\n\u001b[1;32m   1135\u001b[0m     \u001b[0;32mif\u001b[0m \u001b[0mfinal_fetches\u001b[0m \u001b[0;32mor\u001b[0m \u001b[0mfinal_targets\u001b[0m \u001b[0;32mor\u001b[0m \u001b[0;34m(\u001b[0m\u001b[0mhandle\u001b[0m \u001b[0;32mand\u001b[0m \u001b[0mfeed_dict_tensor\u001b[0m\u001b[0;34m)\u001b[0m\u001b[0;34m:\u001b[0m\u001b[0;34m\u001b[0m\u001b[0m\n\u001b[1;32m   1136\u001b[0m       results = self._do_run(handle, final_targets, final_fetches,\n\u001b[0;32m-> 1137\u001b[0;31m                              feed_dict_tensor, options, run_metadata)\n\u001b[0m\u001b[1;32m   1138\u001b[0m     \u001b[0;32melse\u001b[0m\u001b[0;34m:\u001b[0m\u001b[0;34m\u001b[0m\u001b[0m\n\u001b[1;32m   1139\u001b[0m       \u001b[0mresults\u001b[0m \u001b[0;34m=\u001b[0m \u001b[0;34m[\u001b[0m\u001b[0;34m]\u001b[0m\u001b[0;34m\u001b[0m\u001b[0m\n",
      "\u001b[0;32m~/anaconda/envs/py3/lib/python3.6/site-packages/tensorflow/python/client/session.py\u001b[0m in \u001b[0;36m_do_run\u001b[0;34m(self, handle, target_list, fetch_list, feed_dict, options, run_metadata)\u001b[0m\n\u001b[1;32m   1353\u001b[0m     \u001b[0;32mif\u001b[0m \u001b[0mhandle\u001b[0m \u001b[0;32mis\u001b[0m \u001b[0;32mNone\u001b[0m\u001b[0;34m:\u001b[0m\u001b[0;34m\u001b[0m\u001b[0m\n\u001b[1;32m   1354\u001b[0m       return self._do_call(_run_fn, self._session, feeds, fetches, targets,\n\u001b[0;32m-> 1355\u001b[0;31m                            options, run_metadata)\n\u001b[0m\u001b[1;32m   1356\u001b[0m     \u001b[0;32melse\u001b[0m\u001b[0;34m:\u001b[0m\u001b[0;34m\u001b[0m\u001b[0m\n\u001b[1;32m   1357\u001b[0m       \u001b[0;32mreturn\u001b[0m \u001b[0mself\u001b[0m\u001b[0;34m.\u001b[0m\u001b[0m_do_call\u001b[0m\u001b[0;34m(\u001b[0m\u001b[0m_prun_fn\u001b[0m\u001b[0;34m,\u001b[0m \u001b[0mself\u001b[0m\u001b[0;34m.\u001b[0m\u001b[0m_session\u001b[0m\u001b[0;34m,\u001b[0m \u001b[0mhandle\u001b[0m\u001b[0;34m,\u001b[0m \u001b[0mfeeds\u001b[0m\u001b[0;34m,\u001b[0m \u001b[0mfetches\u001b[0m\u001b[0;34m)\u001b[0m\u001b[0;34m\u001b[0m\u001b[0m\n",
      "\u001b[0;32m~/anaconda/envs/py3/lib/python3.6/site-packages/tensorflow/python/client/session.py\u001b[0m in \u001b[0;36m_do_call\u001b[0;34m(self, fn, *args)\u001b[0m\n\u001b[1;32m   1359\u001b[0m   \u001b[0;32mdef\u001b[0m \u001b[0m_do_call\u001b[0m\u001b[0;34m(\u001b[0m\u001b[0mself\u001b[0m\u001b[0;34m,\u001b[0m \u001b[0mfn\u001b[0m\u001b[0;34m,\u001b[0m \u001b[0;34m*\u001b[0m\u001b[0margs\u001b[0m\u001b[0;34m)\u001b[0m\u001b[0;34m:\u001b[0m\u001b[0;34m\u001b[0m\u001b[0m\n\u001b[1;32m   1360\u001b[0m     \u001b[0;32mtry\u001b[0m\u001b[0;34m:\u001b[0m\u001b[0;34m\u001b[0m\u001b[0m\n\u001b[0;32m-> 1361\u001b[0;31m       \u001b[0;32mreturn\u001b[0m \u001b[0mfn\u001b[0m\u001b[0;34m(\u001b[0m\u001b[0;34m*\u001b[0m\u001b[0margs\u001b[0m\u001b[0;34m)\u001b[0m\u001b[0;34m\u001b[0m\u001b[0m\n\u001b[0m\u001b[1;32m   1362\u001b[0m     \u001b[0;32mexcept\u001b[0m \u001b[0merrors\u001b[0m\u001b[0;34m.\u001b[0m\u001b[0mOpError\u001b[0m \u001b[0;32mas\u001b[0m \u001b[0me\u001b[0m\u001b[0;34m:\u001b[0m\u001b[0;34m\u001b[0m\u001b[0m\n\u001b[1;32m   1363\u001b[0m       \u001b[0mmessage\u001b[0m \u001b[0;34m=\u001b[0m \u001b[0mcompat\u001b[0m\u001b[0;34m.\u001b[0m\u001b[0mas_text\u001b[0m\u001b[0;34m(\u001b[0m\u001b[0me\u001b[0m\u001b[0;34m.\u001b[0m\u001b[0mmessage\u001b[0m\u001b[0;34m)\u001b[0m\u001b[0;34m\u001b[0m\u001b[0m\n",
      "\u001b[0;32m~/anaconda/envs/py3/lib/python3.6/site-packages/tensorflow/python/client/session.py\u001b[0m in \u001b[0;36m_run_fn\u001b[0;34m(session, feed_dict, fetch_list, target_list, options, run_metadata)\u001b[0m\n\u001b[1;32m   1338\u001b[0m         \u001b[0;32melse\u001b[0m\u001b[0;34m:\u001b[0m\u001b[0;34m\u001b[0m\u001b[0m\n\u001b[1;32m   1339\u001b[0m           return tf_session.TF_Run(session, options, feed_dict, fetch_list,\n\u001b[0;32m-> 1340\u001b[0;31m                                    target_list, status, run_metadata)\n\u001b[0m\u001b[1;32m   1341\u001b[0m \u001b[0;34m\u001b[0m\u001b[0m\n\u001b[1;32m   1342\u001b[0m     \u001b[0;32mdef\u001b[0m \u001b[0m_prun_fn\u001b[0m\u001b[0;34m(\u001b[0m\u001b[0msession\u001b[0m\u001b[0;34m,\u001b[0m \u001b[0mhandle\u001b[0m\u001b[0;34m,\u001b[0m \u001b[0mfeed_dict\u001b[0m\u001b[0;34m,\u001b[0m \u001b[0mfetch_list\u001b[0m\u001b[0;34m)\u001b[0m\u001b[0;34m:\u001b[0m\u001b[0;34m\u001b[0m\u001b[0m\n",
      "\u001b[0;31mKeyboardInterrupt\u001b[0m: "
     ]
    }
   ],
   "source": [
    "train_generator, valid_generator, test_generator = build_generator(batch_size=batch_size, img_size=(224, 224))\n",
    "finetune_model = build_pretrain_model(VGG16, \n",
    "                                      img_size=(224, 224), \n",
    "                                      prepro_func=vgg16.preprocess_input, \n",
    "                                      optim=None, \n",
    "                                      weights='VGG16_weights.05-0.04.hdf5', \n",
    "                                      freezeto=18,\n",
    "                                      dropout=0.25)\n",
    "\n",
    "early_stop = EarlyStopping(monitor='val_loss', patience=1)\n",
    "modelck_ft = ModelCheckpoint('finetune_weights.{epoch:02d}-{val_loss:.2f}.hdf5',\n",
    "                             save_best_only=True,\n",
    "                             save_weights_only=True)\n",
    "reduce_lr = ReduceLROnPlateau(monitor='val_loss', factor=0.2,\n",
    "                              patience=2, min_lr=0.001)\n",
    "tensor_board = TensorBoard(log_dir='./ft_logs1', \n",
    "                           histogram_freq=0, \n",
    "                           batch_size=batch_size, \n",
    "                           write_graph=False, \n",
    "                           write_grads=False, \n",
    "                           write_images=True)\n",
    "hist_ft = finetune_model.fit_generator(train_generator, epochs=5, \n",
    "                                       validation_data=valid_generator, \n",
    "                                       callbacks=[early_stop, modelck_ft, reduce_lr, tensor_board])"
   ]
  },
  {
   "cell_type": "code",
   "execution_count": 10,
   "metadata": {},
   "outputs": [
    {
     "name": "stdout",
     "output_type": "stream",
     "text": [
      "_________________________________________________________________\n",
      "Layer (type)                 Output Shape              Param #   \n",
      "=================================================================\n",
      "input_2 (InputLayer)         (None, 224, 224, 3)       0         \n",
      "_________________________________________________________________\n",
      "lambda_2 (Lambda)            (None, 224, 224, 3)       0         \n",
      "_________________________________________________________________\n",
      "block1_conv1 (Conv2D)        (None, 224, 224, 64)      1792      \n",
      "_________________________________________________________________\n",
      "block1_conv2 (Conv2D)        (None, 224, 224, 64)      36928     \n",
      "_________________________________________________________________\n",
      "block1_pool (MaxPooling2D)   (None, 112, 112, 64)      0         \n",
      "_________________________________________________________________\n",
      "block2_conv1 (Conv2D)        (None, 112, 112, 128)     73856     \n",
      "_________________________________________________________________\n",
      "block2_conv2 (Conv2D)        (None, 112, 112, 128)     147584    \n",
      "_________________________________________________________________\n",
      "block2_pool (MaxPooling2D)   (None, 56, 56, 128)       0         \n",
      "_________________________________________________________________\n",
      "block3_conv1 (Conv2D)        (None, 56, 56, 256)       295168    \n",
      "_________________________________________________________________\n",
      "block3_conv2 (Conv2D)        (None, 56, 56, 256)       590080    \n",
      "_________________________________________________________________\n",
      "block3_conv3 (Conv2D)        (None, 56, 56, 256)       590080    \n",
      "_________________________________________________________________\n",
      "block3_pool (MaxPooling2D)   (None, 28, 28, 256)       0         \n",
      "_________________________________________________________________\n",
      "block4_conv1 (Conv2D)        (None, 28, 28, 512)       1180160   \n",
      "_________________________________________________________________\n",
      "block4_conv2 (Conv2D)        (None, 28, 28, 512)       2359808   \n",
      "_________________________________________________________________\n",
      "block4_conv3 (Conv2D)        (None, 28, 28, 512)       2359808   \n",
      "_________________________________________________________________\n",
      "block4_pool (MaxPooling2D)   (None, 14, 14, 512)       0         \n",
      "_________________________________________________________________\n",
      "block5_conv1 (Conv2D)        (None, 14, 14, 512)       2359808   \n",
      "_________________________________________________________________\n",
      "block5_conv2 (Conv2D)        (None, 14, 14, 512)       2359808   \n",
      "_________________________________________________________________\n",
      "block5_conv3 (Conv2D)        (None, 14, 14, 512)       2359808   \n",
      "_________________________________________________________________\n",
      "block5_pool (MaxPooling2D)   (None, 7, 7, 512)         0         \n",
      "_________________________________________________________________\n",
      "global_average_pooling2d_2 ( (None, 512)               0         \n",
      "_________________________________________________________________\n",
      "dropout_2 (Dropout)          (None, 512)               0         \n",
      "_________________________________________________________________\n",
      "dense_2 (Dense)              (None, 1)                 513       \n",
      "=================================================================\n",
      "Total params: 14,715,201\n",
      "Trainable params: 2,360,321\n",
      "Non-trainable params: 12,354,880\n",
      "_________________________________________________________________\n"
     ]
    }
   ],
   "source": [
    "finetune_model.summary()"
   ]
  },
  {
   "cell_type": "code",
   "execution_count": null,
   "metadata": {},
   "outputs": [],
   "source": [
    "finetune_model.load_weights('')\n",
    "for layer in ft_model.layers[freeze_layer:]:\n",
    "    layer.trainable = True\n",
    "\n",
    "sgd = optimizers.SGD(lr=0.01, decay=1e-6, momentum=0.9, nesterov=True)\n",
    "finetune_model.compile(optimizer=sgd, loss='binary_crossentropy', metrics=['accuracy'])\n",
    "\n",
    "early_stop = EarlyStopping(monitor='val_loss', patience=1)\n",
    "modelck_ft = ModelCheckpoint('finetune_weights_sgd.{epoch:02d}-{val_loss:.2f}.hdf5',\n",
    "                           save_best_only=True,\n",
    "                           save_weights_only=True)\n",
    "tensor_board = TensorBoard(log_dir='./ft_logs2', \n",
    "                           histogram_freq=0, \n",
    "                           batch_size=batch_size, \n",
    "                           write_graph=False, \n",
    "                           write_grads=False, \n",
    "                           write_images=True)\n",
    "hist_ft = finetune_model.fit_generator(train_generator, epochs=5, \n",
    "                                       validation_data=valid_generator, \n",
    "                                       callbacks=[early_stop, modelck_ft, tensor_board])"
   ]
  },
  {
   "cell_type": "code",
   "execution_count": null,
   "metadata": {},
   "outputs": [],
   "source": [
    "plot_hist('Fine-tune ', hist_ft.history)"
   ]
  },
  {
   "cell_type": "code",
   "execution_count": null,
   "metadata": {},
   "outputs": [],
   "source": [
    "y_pred = finetune_model.predict_generator(test_generator, verbose=1)\n",
    "y_pred = y_pred.clip(min=0.005, max=0.995)\n",
    "\n",
    "ft_pred = pd.read_csv(\"sample_submission.csv\")\n",
    "for i, fname in enumerate(test_generator.filenames):\n",
    "    index = int(fname[fname.rfind('/')+1:fname.rfind('.')])\n",
    "    ft_pred.at[index-1, 'label'] = y_pred[i]\n",
    "    \n",
    "ft_pred.to_csv('finetune_pred.csv', index=False)\n",
    "ft_pred.head(10)"
   ]
  },
  {
   "cell_type": "markdown",
   "metadata": {},
   "source": [
    "# 三、模型融合"
   ]
  },
  {
   "cell_type": "markdown",
   "metadata": {},
   "source": [
    "### 1、导出特征向量"
   ]
  },
  {
   "cell_type": "code",
   "execution_count": 10,
   "metadata": {},
   "outputs": [],
   "source": [
    "def extract_features(MODEL, img_size=(299, 299), prepro_func=None, batch_size=64):\n",
    "    \n",
    "    input_tensor = Input(shape=(img_size[1], img_size[0], 3))\n",
    "    x = Lambda(prepro_func)(input_tensor)\n",
    "    \n",
    "    base_model = MODEL(input_tensor=x, weights='imagenet', include_top=False)\n",
    "    model = Model(base_model.input, GlobalAveragePooling2D()(base_model.output))\n",
    "    \n",
    "    gen = ImageDataGenerator()\n",
    "    train_ext_gen = gen.flow_from_directory(directory='train3', \n",
    "                                            shuffle=False, \n",
    "                                            target_size=img_size, \n",
    "                                            batch_size=batch_size)\n",
    "    test_ext_gen = gen.flow_from_directory(directory='test2', \n",
    "                                           shuffle=False,\n",
    "                                           class_mode=None,\n",
    "                                           target_size=img_size,\n",
    "                                           batch_size=batch_size)\n",
    "    \n",
    "    train = model.predict_generator(train_ext_gen, verbose=1)\n",
    "    test = model.predict_generator(test_ext_gen, verbose=1)\n",
    "    \n",
    "    with h5py.File(\"gap_%s.h5\"%MODEL.func_name) as h:\n",
    "        h.create_dataset(\"train\", data=train)\n",
    "        h.create_dataset(\"test\", data=test)\n",
    "        h.create_dataset(\"label\", data=train_ext_gen.classes)\n",
    "    print('%s features extracted.' % MODEL.func_name)"
   ]
  },
  {
   "cell_type": "code",
   "execution_count": null,
   "metadata": {},
   "outputs": [
    {
     "name": "stdout",
     "output_type": "stream",
     "text": [
      "Found 24809 images belonging to 2 classes.\n",
      "Found 12500 images belonging to 1 classes.\n"
     ]
    }
   ],
   "source": [
    "extract_features(ResNet50, img_size=(224, 224), prepro_func=resnet50.preprocess_input)"
   ]
  },
  {
   "cell_type": "code",
   "execution_count": 7,
   "metadata": {},
   "outputs": [
    {
     "name": "stdout",
     "output_type": "stream",
     "text": [
      "Found 24809 images belonging to 2 classes.\n",
      "Found 12500 images belonging to 1 classes.\n"
     ]
    },
    {
     "ename": "KeyboardInterrupt",
     "evalue": "",
     "output_type": "error",
     "traceback": [
      "\u001b[0;31m---------------------------------------------------------------------------\u001b[0m",
      "\u001b[0;31mKeyboardInterrupt\u001b[0m                         Traceback (most recent call last)",
      "\u001b[0;32m<ipython-input-7-1e1f1ef823b8>\u001b[0m in \u001b[0;36m<module>\u001b[0;34m()\u001b[0m\n\u001b[0;32m----> 1\u001b[0;31m \u001b[0mextract_features\u001b[0m\u001b[0;34m(\u001b[0m\u001b[0mXception\u001b[0m\u001b[0;34m,\u001b[0m \u001b[0mprepro_func\u001b[0m\u001b[0;34m=\u001b[0m\u001b[0mxception\u001b[0m\u001b[0;34m.\u001b[0m\u001b[0mpreprocess_input\u001b[0m\u001b[0;34m)\u001b[0m\u001b[0;34m\u001b[0m\u001b[0m\n\u001b[0m",
      "\u001b[0;32m<ipython-input-6-10707b3a8cf8>\u001b[0m in \u001b[0;36mextract_features\u001b[0;34m(MODEL, img_size, prepro_func, batch_size)\u001b[0m\n\u001b[1;32m     17\u001b[0m                                       batch_size=batch_size)\n\u001b[1;32m     18\u001b[0m \u001b[0;34m\u001b[0m\u001b[0m\n\u001b[0;32m---> 19\u001b[0;31m     \u001b[0mtrain\u001b[0m \u001b[0;34m=\u001b[0m \u001b[0mmodel\u001b[0m\u001b[0;34m.\u001b[0m\u001b[0mpredict_generator\u001b[0m\u001b[0;34m(\u001b[0m\u001b[0mtrain_gen\u001b[0m\u001b[0;34m,\u001b[0m \u001b[0mtrain_generator\u001b[0m\u001b[0;34m.\u001b[0m\u001b[0msamples\u001b[0m\u001b[0;34m)\u001b[0m\u001b[0;34m\u001b[0m\u001b[0m\n\u001b[0m\u001b[1;32m     20\u001b[0m     \u001b[0mtest\u001b[0m \u001b[0;34m=\u001b[0m \u001b[0mmodel\u001b[0m\u001b[0;34m.\u001b[0m\u001b[0mpredict_generator\u001b[0m\u001b[0;34m(\u001b[0m\u001b[0mtest_gen\u001b[0m\u001b[0;34m,\u001b[0m \u001b[0mtest_generator\u001b[0m\u001b[0;34m.\u001b[0m\u001b[0msamples\u001b[0m\u001b[0;34m)\u001b[0m\u001b[0;34m\u001b[0m\u001b[0m\n\u001b[1;32m     21\u001b[0m \u001b[0;34m\u001b[0m\u001b[0m\n",
      "\u001b[0;32m~/anaconda3/lib/python3.6/site-packages/keras/legacy/interfaces.py\u001b[0m in \u001b[0;36mwrapper\u001b[0;34m(*args, **kwargs)\u001b[0m\n\u001b[1;32m     89\u001b[0m                 warnings.warn('Update your `' + object_name +\n\u001b[1;32m     90\u001b[0m                               '` call to the Keras 2 API: ' + signature, stacklevel=2)\n\u001b[0;32m---> 91\u001b[0;31m             \u001b[0;32mreturn\u001b[0m \u001b[0mfunc\u001b[0m\u001b[0;34m(\u001b[0m\u001b[0;34m*\u001b[0m\u001b[0margs\u001b[0m\u001b[0;34m,\u001b[0m \u001b[0;34m**\u001b[0m\u001b[0mkwargs\u001b[0m\u001b[0;34m)\u001b[0m\u001b[0;34m\u001b[0m\u001b[0m\n\u001b[0m\u001b[1;32m     92\u001b[0m         \u001b[0mwrapper\u001b[0m\u001b[0;34m.\u001b[0m\u001b[0m_original_function\u001b[0m \u001b[0;34m=\u001b[0m \u001b[0mfunc\u001b[0m\u001b[0;34m\u001b[0m\u001b[0m\n\u001b[1;32m     93\u001b[0m         \u001b[0;32mreturn\u001b[0m \u001b[0mwrapper\u001b[0m\u001b[0;34m\u001b[0m\u001b[0m\n",
      "\u001b[0;32m~/anaconda3/lib/python3.6/site-packages/keras/engine/training.py\u001b[0m in \u001b[0;36mpredict_generator\u001b[0;34m(self, generator, steps, max_queue_size, workers, use_multiprocessing, verbose)\u001b[0m\n\u001b[1;32m   2508\u001b[0m                     \u001b[0mx\u001b[0m \u001b[0;34m=\u001b[0m \u001b[0mgenerator_output\u001b[0m\u001b[0;34m\u001b[0m\u001b[0m\n\u001b[1;32m   2509\u001b[0m \u001b[0;34m\u001b[0m\u001b[0m\n\u001b[0;32m-> 2510\u001b[0;31m                 \u001b[0mouts\u001b[0m \u001b[0;34m=\u001b[0m \u001b[0mself\u001b[0m\u001b[0;34m.\u001b[0m\u001b[0mpredict_on_batch\u001b[0m\u001b[0;34m(\u001b[0m\u001b[0mx\u001b[0m\u001b[0;34m)\u001b[0m\u001b[0;34m\u001b[0m\u001b[0m\n\u001b[0m\u001b[1;32m   2511\u001b[0m                 \u001b[0;32mif\u001b[0m \u001b[0;32mnot\u001b[0m \u001b[0misinstance\u001b[0m\u001b[0;34m(\u001b[0m\u001b[0mouts\u001b[0m\u001b[0;34m,\u001b[0m \u001b[0mlist\u001b[0m\u001b[0;34m)\u001b[0m\u001b[0;34m:\u001b[0m\u001b[0;34m\u001b[0m\u001b[0m\n\u001b[1;32m   2512\u001b[0m                     \u001b[0mouts\u001b[0m \u001b[0;34m=\u001b[0m \u001b[0;34m[\u001b[0m\u001b[0mouts\u001b[0m\u001b[0;34m]\u001b[0m\u001b[0;34m\u001b[0m\u001b[0m\n",
      "\u001b[0;32m~/anaconda3/lib/python3.6/site-packages/keras/engine/training.py\u001b[0m in \u001b[0;36mpredict_on_batch\u001b[0;34m(self, x)\u001b[0m\n\u001b[1;32m   1943\u001b[0m             \u001b[0mins\u001b[0m \u001b[0;34m=\u001b[0m \u001b[0mx\u001b[0m\u001b[0;34m\u001b[0m\u001b[0m\n\u001b[1;32m   1944\u001b[0m         \u001b[0mself\u001b[0m\u001b[0;34m.\u001b[0m\u001b[0m_make_predict_function\u001b[0m\u001b[0;34m(\u001b[0m\u001b[0;34m)\u001b[0m\u001b[0;34m\u001b[0m\u001b[0m\n\u001b[0;32m-> 1945\u001b[0;31m         \u001b[0moutputs\u001b[0m \u001b[0;34m=\u001b[0m \u001b[0mself\u001b[0m\u001b[0;34m.\u001b[0m\u001b[0mpredict_function\u001b[0m\u001b[0;34m(\u001b[0m\u001b[0mins\u001b[0m\u001b[0;34m)\u001b[0m\u001b[0;34m\u001b[0m\u001b[0m\n\u001b[0m\u001b[1;32m   1946\u001b[0m         \u001b[0;32mif\u001b[0m \u001b[0mlen\u001b[0m\u001b[0;34m(\u001b[0m\u001b[0moutputs\u001b[0m\u001b[0;34m)\u001b[0m \u001b[0;34m==\u001b[0m \u001b[0;36m1\u001b[0m\u001b[0;34m:\u001b[0m\u001b[0;34m\u001b[0m\u001b[0m\n\u001b[1;32m   1947\u001b[0m             \u001b[0;32mreturn\u001b[0m \u001b[0moutputs\u001b[0m\u001b[0;34m[\u001b[0m\u001b[0;36m0\u001b[0m\u001b[0;34m]\u001b[0m\u001b[0;34m\u001b[0m\u001b[0m\n",
      "\u001b[0;32m~/anaconda3/lib/python3.6/site-packages/keras/backend/tensorflow_backend.py\u001b[0m in \u001b[0;36m__call__\u001b[0;34m(self, inputs)\u001b[0m\n\u001b[1;32m   2476\u001b[0m         \u001b[0msession\u001b[0m \u001b[0;34m=\u001b[0m \u001b[0mget_session\u001b[0m\u001b[0;34m(\u001b[0m\u001b[0;34m)\u001b[0m\u001b[0;34m\u001b[0m\u001b[0m\n\u001b[1;32m   2477\u001b[0m         updated = session.run(fetches=fetches, feed_dict=feed_dict,\n\u001b[0;32m-> 2478\u001b[0;31m                               **self.session_kwargs)\n\u001b[0m\u001b[1;32m   2479\u001b[0m         \u001b[0;32mreturn\u001b[0m \u001b[0mupdated\u001b[0m\u001b[0;34m[\u001b[0m\u001b[0;34m:\u001b[0m\u001b[0mlen\u001b[0m\u001b[0;34m(\u001b[0m\u001b[0mself\u001b[0m\u001b[0;34m.\u001b[0m\u001b[0moutputs\u001b[0m\u001b[0;34m)\u001b[0m\u001b[0;34m]\u001b[0m\u001b[0;34m\u001b[0m\u001b[0m\n\u001b[1;32m   2480\u001b[0m \u001b[0;34m\u001b[0m\u001b[0m\n",
      "\u001b[0;32m~/anaconda3/lib/python3.6/site-packages/tensorflow/python/client/session.py\u001b[0m in \u001b[0;36mrun\u001b[0;34m(self, fetches, feed_dict, options, run_metadata)\u001b[0m\n\u001b[1;32m    903\u001b[0m     \u001b[0;32mtry\u001b[0m\u001b[0;34m:\u001b[0m\u001b[0;34m\u001b[0m\u001b[0m\n\u001b[1;32m    904\u001b[0m       result = self._run(None, fetches, feed_dict, options_ptr,\n\u001b[0;32m--> 905\u001b[0;31m                          run_metadata_ptr)\n\u001b[0m\u001b[1;32m    906\u001b[0m       \u001b[0;32mif\u001b[0m \u001b[0mrun_metadata\u001b[0m\u001b[0;34m:\u001b[0m\u001b[0;34m\u001b[0m\u001b[0m\n\u001b[1;32m    907\u001b[0m         \u001b[0mproto_data\u001b[0m \u001b[0;34m=\u001b[0m \u001b[0mtf_session\u001b[0m\u001b[0;34m.\u001b[0m\u001b[0mTF_GetBuffer\u001b[0m\u001b[0;34m(\u001b[0m\u001b[0mrun_metadata_ptr\u001b[0m\u001b[0;34m)\u001b[0m\u001b[0;34m\u001b[0m\u001b[0m\n",
      "\u001b[0;32m~/anaconda3/lib/python3.6/site-packages/tensorflow/python/client/session.py\u001b[0m in \u001b[0;36m_run\u001b[0;34m(self, handle, fetches, feed_dict, options, run_metadata)\u001b[0m\n\u001b[1;32m   1138\u001b[0m     \u001b[0;32mif\u001b[0m \u001b[0mfinal_fetches\u001b[0m \u001b[0;32mor\u001b[0m \u001b[0mfinal_targets\u001b[0m \u001b[0;32mor\u001b[0m \u001b[0;34m(\u001b[0m\u001b[0mhandle\u001b[0m \u001b[0;32mand\u001b[0m \u001b[0mfeed_dict_tensor\u001b[0m\u001b[0;34m)\u001b[0m\u001b[0;34m:\u001b[0m\u001b[0;34m\u001b[0m\u001b[0m\n\u001b[1;32m   1139\u001b[0m       results = self._do_run(handle, final_targets, final_fetches,\n\u001b[0;32m-> 1140\u001b[0;31m                              feed_dict_tensor, options, run_metadata)\n\u001b[0m\u001b[1;32m   1141\u001b[0m     \u001b[0;32melse\u001b[0m\u001b[0;34m:\u001b[0m\u001b[0;34m\u001b[0m\u001b[0m\n\u001b[1;32m   1142\u001b[0m       \u001b[0mresults\u001b[0m \u001b[0;34m=\u001b[0m \u001b[0;34m[\u001b[0m\u001b[0;34m]\u001b[0m\u001b[0;34m\u001b[0m\u001b[0m\n",
      "\u001b[0;32m~/anaconda3/lib/python3.6/site-packages/tensorflow/python/client/session.py\u001b[0m in \u001b[0;36m_do_run\u001b[0;34m(self, handle, target_list, fetch_list, feed_dict, options, run_metadata)\u001b[0m\n\u001b[1;32m   1319\u001b[0m     \u001b[0;32mif\u001b[0m \u001b[0mhandle\u001b[0m \u001b[0;32mis\u001b[0m \u001b[0;32mNone\u001b[0m\u001b[0;34m:\u001b[0m\u001b[0;34m\u001b[0m\u001b[0m\n\u001b[1;32m   1320\u001b[0m       return self._do_call(_run_fn, feeds, fetches, targets, options,\n\u001b[0;32m-> 1321\u001b[0;31m                            run_metadata)\n\u001b[0m\u001b[1;32m   1322\u001b[0m     \u001b[0;32melse\u001b[0m\u001b[0;34m:\u001b[0m\u001b[0;34m\u001b[0m\u001b[0m\n\u001b[1;32m   1323\u001b[0m       \u001b[0;32mreturn\u001b[0m \u001b[0mself\u001b[0m\u001b[0;34m.\u001b[0m\u001b[0m_do_call\u001b[0m\u001b[0;34m(\u001b[0m\u001b[0m_prun_fn\u001b[0m\u001b[0;34m,\u001b[0m \u001b[0mhandle\u001b[0m\u001b[0;34m,\u001b[0m \u001b[0mfeeds\u001b[0m\u001b[0;34m,\u001b[0m \u001b[0mfetches\u001b[0m\u001b[0;34m)\u001b[0m\u001b[0;34m\u001b[0m\u001b[0m\n",
      "\u001b[0;32m~/anaconda3/lib/python3.6/site-packages/tensorflow/python/client/session.py\u001b[0m in \u001b[0;36m_do_call\u001b[0;34m(self, fn, *args)\u001b[0m\n\u001b[1;32m   1325\u001b[0m   \u001b[0;32mdef\u001b[0m \u001b[0m_do_call\u001b[0m\u001b[0;34m(\u001b[0m\u001b[0mself\u001b[0m\u001b[0;34m,\u001b[0m \u001b[0mfn\u001b[0m\u001b[0;34m,\u001b[0m \u001b[0;34m*\u001b[0m\u001b[0margs\u001b[0m\u001b[0;34m)\u001b[0m\u001b[0;34m:\u001b[0m\u001b[0;34m\u001b[0m\u001b[0m\n\u001b[1;32m   1326\u001b[0m     \u001b[0;32mtry\u001b[0m\u001b[0;34m:\u001b[0m\u001b[0;34m\u001b[0m\u001b[0m\n\u001b[0;32m-> 1327\u001b[0;31m       \u001b[0;32mreturn\u001b[0m \u001b[0mfn\u001b[0m\u001b[0;34m(\u001b[0m\u001b[0;34m*\u001b[0m\u001b[0margs\u001b[0m\u001b[0;34m)\u001b[0m\u001b[0;34m\u001b[0m\u001b[0m\n\u001b[0m\u001b[1;32m   1328\u001b[0m     \u001b[0;32mexcept\u001b[0m \u001b[0merrors\u001b[0m\u001b[0;34m.\u001b[0m\u001b[0mOpError\u001b[0m \u001b[0;32mas\u001b[0m \u001b[0me\u001b[0m\u001b[0;34m:\u001b[0m\u001b[0;34m\u001b[0m\u001b[0m\n\u001b[1;32m   1329\u001b[0m       \u001b[0mmessage\u001b[0m \u001b[0;34m=\u001b[0m \u001b[0mcompat\u001b[0m\u001b[0;34m.\u001b[0m\u001b[0mas_text\u001b[0m\u001b[0;34m(\u001b[0m\u001b[0me\u001b[0m\u001b[0;34m.\u001b[0m\u001b[0mmessage\u001b[0m\u001b[0;34m)\u001b[0m\u001b[0;34m\u001b[0m\u001b[0m\n",
      "\u001b[0;32m~/anaconda3/lib/python3.6/site-packages/tensorflow/python/client/session.py\u001b[0m in \u001b[0;36m_run_fn\u001b[0;34m(feed_dict, fetch_list, target_list, options, run_metadata)\u001b[0m\n\u001b[1;32m   1310\u001b[0m       \u001b[0mself\u001b[0m\u001b[0;34m.\u001b[0m\u001b[0m_extend_graph\u001b[0m\u001b[0;34m(\u001b[0m\u001b[0;34m)\u001b[0m\u001b[0;34m\u001b[0m\u001b[0m\n\u001b[1;32m   1311\u001b[0m       return self._call_tf_sessionrun(\n\u001b[0;32m-> 1312\u001b[0;31m           options, feed_dict, fetch_list, target_list, run_metadata)\n\u001b[0m\u001b[1;32m   1313\u001b[0m \u001b[0;34m\u001b[0m\u001b[0m\n\u001b[1;32m   1314\u001b[0m     \u001b[0;32mdef\u001b[0m \u001b[0m_prun_fn\u001b[0m\u001b[0;34m(\u001b[0m\u001b[0mhandle\u001b[0m\u001b[0;34m,\u001b[0m \u001b[0mfeed_dict\u001b[0m\u001b[0;34m,\u001b[0m \u001b[0mfetch_list\u001b[0m\u001b[0;34m)\u001b[0m\u001b[0;34m:\u001b[0m\u001b[0;34m\u001b[0m\u001b[0m\n",
      "\u001b[0;32m~/anaconda3/lib/python3.6/site-packages/tensorflow/python/client/session.py\u001b[0m in \u001b[0;36m_call_tf_sessionrun\u001b[0;34m(self, options, feed_dict, fetch_list, target_list, run_metadata)\u001b[0m\n\u001b[1;32m   1418\u001b[0m         return tf_session.TF_Run(\n\u001b[1;32m   1419\u001b[0m             \u001b[0mself\u001b[0m\u001b[0;34m.\u001b[0m\u001b[0m_session\u001b[0m\u001b[0;34m,\u001b[0m \u001b[0moptions\u001b[0m\u001b[0;34m,\u001b[0m \u001b[0mfeed_dict\u001b[0m\u001b[0;34m,\u001b[0m \u001b[0mfetch_list\u001b[0m\u001b[0;34m,\u001b[0m \u001b[0mtarget_list\u001b[0m\u001b[0;34m,\u001b[0m\u001b[0;34m\u001b[0m\u001b[0m\n\u001b[0;32m-> 1420\u001b[0;31m             status, run_metadata)\n\u001b[0m\u001b[1;32m   1421\u001b[0m \u001b[0;34m\u001b[0m\u001b[0m\n\u001b[1;32m   1422\u001b[0m   \u001b[0;32mdef\u001b[0m \u001b[0m_call_tf_sessionprun\u001b[0m\u001b[0;34m(\u001b[0m\u001b[0mself\u001b[0m\u001b[0;34m,\u001b[0m \u001b[0mhandle\u001b[0m\u001b[0;34m,\u001b[0m \u001b[0mfeed_dict\u001b[0m\u001b[0;34m,\u001b[0m \u001b[0mfetch_list\u001b[0m\u001b[0;34m)\u001b[0m\u001b[0;34m:\u001b[0m\u001b[0;34m\u001b[0m\u001b[0m\n",
      "\u001b[0;31mKeyboardInterrupt\u001b[0m: "
     ]
    }
   ],
   "source": [
    "extract_features(Xception, prepro_func=xception.preprocess_input)"
   ]
  },
  {
   "cell_type": "code",
   "execution_count": null,
   "metadata": {},
   "outputs": [],
   "source": [
    "extract_features(InceptionV3, prepro_func=inception_v3.preprocess_input)"
   ]
  },
  {
   "cell_type": "code",
   "execution_count": null,
   "metadata": {},
   "outputs": [],
   "source": [
    "extract_features(InceptionResNetV2, prepro_func=inception_resnet_v2.preprocess_input)"
   ]
  },
  {
   "cell_type": "markdown",
   "metadata": {},
   "source": [
    "### 2、载入特征向量"
   ]
  },
  {
   "cell_type": "code",
   "execution_count": null,
   "metadata": {},
   "outputs": [],
   "source": [
    "X_train = []\n",
    "X_test = []\n",
    "\n",
    "for filename in [\"gap_ResNet50.h5\", \"gap_Xception.h5\", \"gap_InceptionV3.h5\"]:\n",
    "    with h5py.File(filename, 'r') as h:\n",
    "        X_train.append(np.array(h['train']))\n",
    "        X_test.append(np.array(h['test']))\n",
    "        y_train = np.array(h['label'])\n",
    "\n",
    "X_train = np.concatenate(X_train, axis=1)\n",
    "X_test = np.concatenate(X_test, axis=1)\n",
    "\n",
    "X_train, y_train = shuffle(X_train, y_train)"
   ]
  },
  {
   "cell_type": "code",
   "execution_count": null,
   "metadata": {},
   "outputs": [],
   "source": []
  },
  {
   "cell_type": "markdown",
   "metadata": {},
   "source": [
    "### 3、模型融合"
   ]
  },
  {
   "cell_type": "markdown",
   "metadata": {},
   "source": [
    "(1) 利用已导出的特征进行融合"
   ]
  },
  {
   "cell_type": "code",
   "execution_count": null,
   "metadata": {},
   "outputs": [],
   "source": [
    "input_tensor = Input(X_train.shape[1:])\n",
    "x = Dropout(0.25)(input_tensor)\n",
    "x = Dense(1, activation='sigmoid')(x)\n",
    "model = Model(input_tensor, x)\n",
    "\n",
    "model.compile(optimizer='adadelta',\n",
    "              loss='binary_crossentropy',\n",
    "              metrics=['accuracy'])\n",
    "\n",
    "model.fit(X_train, y_train, batch_size=128, epochs=8, validation_split=0.2)"
   ]
  },
  {
   "cell_type": "code",
   "execution_count": null,
   "metadata": {},
   "outputs": [],
   "source": [
    "y_pred = model.predict(X_test, verbose=1)\n",
    "y_pred = y_pred.clip(min=0.005, max=0.995)\n",
    "\n",
    "gap_pred = pd.read_csv(\"sample_submission.csv\")\n",
    "for i, fname in enumerate(test_generator.filenames):\n",
    "    index = int(fname[fname.rfind('/')+1:fname.rfind('.')])\n",
    "    gap_pred.at[index-1, 'label'] = y_pred[i]\n",
    "    \n",
    "gap_pred.to_csv('gap_pred.csv', index=False)\n",
    "gap_pred.head(10)"
   ]
  },
  {
   "cell_type": "markdown",
   "metadata": {},
   "source": [
    "(2) 直接构建融合模型"
   ]
  },
  {
   "cell_type": "code",
   "execution_count": 20,
   "metadata": {},
   "outputs": [
    {
     "name": "stdout",
     "output_type": "stream",
     "text": [
      "mixed_model has 13 layers.\n"
     ]
    }
   ],
   "source": [
    "xce_model = Xception(weights='imagenet', input_shape=(299, 299, 3), include_top=False, pooling='avg')\n",
    "inv3_model = InceptionV3(weights='imagenet', input_shape=(299, 299, 3), include_top=False, pooling='avg')\n",
    "inrev2_model = InceptionResNetV2(weights='imagenet', input_shape=(299, 299, 3), include_top=False, pooling='avg')\n",
    "rene50_model = ResNet50(weights='imagenet', input_shape=(224, 224, 3), include_top=False, pooling='avg')\n",
    "\n",
    "input_t1 = Input((299, 299, 3)) #xception, InceptionV3, InceptionResNetV2\n",
    "a = Lambda(xception.preprocess_input)(input_t1)\n",
    "a = xce_model(a)\n",
    "b = Lambda(inception_v3.preprocess_input)(input_t1)\n",
    "b = inv3_model(b)\n",
    "c = Lambda(inception_resnet_v2.preprocess_input)(input_t1)\n",
    "c = inrev2_model(c)\n",
    "\n",
    "input_t2 = Input((224, 224, 3)) #ResNet50\n",
    "d = Lambda(resnet50.preprocess_input)(input_t2)\n",
    "d = rene50_model(d)\n",
    "\n",
    "x = Concatenate()([a, b, c, d])\n",
    "x = Dropout(0.5)(x)\n",
    "x = Dense(1, activation='sigmoid', kernel_initializer='he_normal')(x)\n",
    "\n",
    "mixed_model = Model([input_t1, input_t2], x)\n",
    "for layer in mixed_model.layers[:10]:\n",
    "    layer.trainable = False\n",
    "\n",
    "mixed_model.compile(optimizer='adadelta', loss='binary_crossentropy', metrics=['accuracy'])\n",
    "print('mixed_model has %d layers.' % (len(mixed_model.layers)))"
   ]
  },
  {
   "cell_type": "code",
   "execution_count": 21,
   "metadata": {},
   "outputs": [
    {
     "name": "stdout",
     "output_type": "stream",
     "text": [
      "__________________________________________________________________________________________________\n",
      "Layer (type)                    Output Shape         Param #     Connected to                     \n",
      "==================================================================================================\n",
      "input_11 (InputLayer)           (None, 299, 299, 3)  0                                            \n",
      "__________________________________________________________________________________________________\n",
      "input_12 (InputLayer)           (None, 224, 224, 3)  0                                            \n",
      "__________________________________________________________________________________________________\n",
      "lambda_5 (Lambda)               (None, 299, 299, 3)  0           input_11[0][0]                   \n",
      "__________________________________________________________________________________________________\n",
      "lambda_6 (Lambda)               (None, 299, 299, 3)  0           input_11[0][0]                   \n",
      "__________________________________________________________________________________________________\n",
      "lambda_7 (Lambda)               (None, 299, 299, 3)  0           input_11[0][0]                   \n",
      "__________________________________________________________________________________________________\n",
      "lambda_8 (Lambda)               (None, 224, 224, 3)  0           input_12[0][0]                   \n",
      "__________________________________________________________________________________________________\n",
      "xception (Model)                (None, 2048)         20861480    lambda_5[0][0]                   \n",
      "__________________________________________________________________________________________________\n",
      "inception_v3 (Model)            (None, 2048)         21802784    lambda_6[0][0]                   \n",
      "__________________________________________________________________________________________________\n",
      "inception_resnet_v2 (Model)     (None, 1536)         54336736    lambda_7[0][0]                   \n",
      "__________________________________________________________________________________________________\n",
      "resnet50 (Model)                (None, 2048)         23587712    lambda_8[0][0]                   \n",
      "__________________________________________________________________________________________________\n",
      "concatenate_6 (Concatenate)     (None, 7680)         0           xception[1][0]                   \n",
      "                                                                 inception_v3[1][0]               \n",
      "                                                                 inception_resnet_v2[1][0]        \n",
      "                                                                 resnet50[1][0]                   \n",
      "__________________________________________________________________________________________________\n",
      "dropout_2 (Dropout)             (None, 7680)         0           concatenate_6[0][0]              \n",
      "__________________________________________________________________________________________________\n",
      "dense_2 (Dense)                 (None, 1)            7681        dropout_2[0][0]                  \n",
      "==================================================================================================\n",
      "Total params: 120,596,393\n",
      "Trainable params: 7,681\n",
      "Non-trainable params: 120,588,712\n",
      "__________________________________________________________________________________________________\n"
     ]
    }
   ],
   "source": [
    "mixed_model.summary()"
   ]
  },
  {
   "cell_type": "code",
   "execution_count": 22,
   "metadata": {},
   "outputs": [
    {
     "name": "stdout",
     "output_type": "stream",
     "text": [
      "Fontconfig warning: ignoring UTF-8: not a valid region tag\n",
      "\n"
     ]
    },
    {
     "data": {
      "image/svg+xml": [
       "<svg height=\"470pt\" viewBox=\"0.00 0.00 1317.50 470.00\" width=\"1318pt\" xmlns=\"http://www.w3.org/2000/svg\" xmlns:xlink=\"http://www.w3.org/1999/xlink\">\n",
       "<g class=\"graph\" id=\"graph0\" transform=\"scale(1 1) rotate(0) translate(4 466)\">\n",
       "<title>G</title>\n",
       "<polygon fill=\"#ffffff\" points=\"-4,4 -4,-466 1313.5,-466 1313.5,4 -4,4\" stroke=\"transparent\"/>\n",
       "<!-- 140619234810736 -->\n",
       "<g class=\"node\" id=\"node1\">\n",
       "<title>140619234810736</title>\n",
       "<polygon fill=\"none\" points=\"316.5,-415.5 316.5,-461.5 628.5,-461.5 628.5,-415.5 316.5,-415.5\" stroke=\"#000000\"/>\n",
       "<text fill=\"#000000\" font-family=\"Times,serif\" font-size=\"14.00\" text-anchor=\"middle\" x=\"382.5\" y=\"-434.8\">input_11: InputLayer</text>\n",
       "<polyline fill=\"none\" points=\"448.5,-415.5 448.5,-461.5 \" stroke=\"#000000\"/>\n",
       "<text fill=\"#000000\" font-family=\"Times,serif\" font-size=\"14.00\" text-anchor=\"middle\" x=\"476\" y=\"-446.3\">input:</text>\n",
       "<polyline fill=\"none\" points=\"448.5,-438.5 503.5,-438.5 \" stroke=\"#000000\"/>\n",
       "<text fill=\"#000000\" font-family=\"Times,serif\" font-size=\"14.00\" text-anchor=\"middle\" x=\"476\" y=\"-423.3\">output:</text>\n",
       "<polyline fill=\"none\" points=\"503.5,-415.5 503.5,-461.5 \" stroke=\"#000000\"/>\n",
       "<text fill=\"#000000\" font-family=\"Times,serif\" font-size=\"14.00\" text-anchor=\"middle\" x=\"566\" y=\"-446.3\">(None, 299, 299, 3)</text>\n",
       "<polyline fill=\"none\" points=\"503.5,-438.5 628.5,-438.5 \" stroke=\"#000000\"/>\n",
       "<text fill=\"#000000\" font-family=\"Times,serif\" font-size=\"14.00\" text-anchor=\"middle\" x=\"566\" y=\"-423.3\">(None, 299, 299, 3)</text>\n",
       "</g>\n",
       "<!-- 140617691885352 -->\n",
       "<g class=\"node\" id=\"node3\">\n",
       "<title>140617691885352</title>\n",
       "<polygon fill=\"none\" points=\"0,-332.5 0,-378.5 303,-378.5 303,-332.5 0,-332.5\" stroke=\"#000000\"/>\n",
       "<text fill=\"#000000\" font-family=\"Times,serif\" font-size=\"14.00\" text-anchor=\"middle\" x=\"61.5\" y=\"-351.8\">lambda_5: Lambda</text>\n",
       "<polyline fill=\"none\" points=\"123,-332.5 123,-378.5 \" stroke=\"#000000\"/>\n",
       "<text fill=\"#000000\" font-family=\"Times,serif\" font-size=\"14.00\" text-anchor=\"middle\" x=\"150.5\" y=\"-363.3\">input:</text>\n",
       "<polyline fill=\"none\" points=\"123,-355.5 178,-355.5 \" stroke=\"#000000\"/>\n",
       "<text fill=\"#000000\" font-family=\"Times,serif\" font-size=\"14.00\" text-anchor=\"middle\" x=\"150.5\" y=\"-340.3\">output:</text>\n",
       "<polyline fill=\"none\" points=\"178,-332.5 178,-378.5 \" stroke=\"#000000\"/>\n",
       "<text fill=\"#000000\" font-family=\"Times,serif\" font-size=\"14.00\" text-anchor=\"middle\" x=\"240.5\" y=\"-363.3\">(None, 299, 299, 3)</text>\n",
       "<polyline fill=\"none\" points=\"178,-355.5 303,-355.5 \" stroke=\"#000000\"/>\n",
       "<text fill=\"#000000\" font-family=\"Times,serif\" font-size=\"14.00\" text-anchor=\"middle\" x=\"240.5\" y=\"-340.3\">(None, 299, 299, 3)</text>\n",
       "</g>\n",
       "<!-- 140619234810736&#45;&gt;140617691885352 -->\n",
       "<g class=\"edge\" id=\"edge1\">\n",
       "<title>140619234810736-&gt;140617691885352</title>\n",
       "<path d=\"M383.5099,-415.4901C342.1975,-404.8081 292.9396,-392.0716 250.4598,-381.0877\" fill=\"none\" stroke=\"#000000\"/>\n",
       "<polygon fill=\"#000000\" points=\"251.221,-377.6695 240.6632,-378.5547 249.4686,-384.4466 251.221,-377.6695\" stroke=\"#000000\"/>\n",
       "</g>\n",
       "<!-- 140617691558856 -->\n",
       "<g class=\"node\" id=\"node4\">\n",
       "<title>140617691558856</title>\n",
       "<polygon fill=\"none\" points=\"321,-332.5 321,-378.5 624,-378.5 624,-332.5 321,-332.5\" stroke=\"#000000\"/>\n",
       "<text fill=\"#000000\" font-family=\"Times,serif\" font-size=\"14.00\" text-anchor=\"middle\" x=\"382.5\" y=\"-351.8\">lambda_6: Lambda</text>\n",
       "<polyline fill=\"none\" points=\"444,-332.5 444,-378.5 \" stroke=\"#000000\"/>\n",
       "<text fill=\"#000000\" font-family=\"Times,serif\" font-size=\"14.00\" text-anchor=\"middle\" x=\"471.5\" y=\"-363.3\">input:</text>\n",
       "<polyline fill=\"none\" points=\"444,-355.5 499,-355.5 \" stroke=\"#000000\"/>\n",
       "<text fill=\"#000000\" font-family=\"Times,serif\" font-size=\"14.00\" text-anchor=\"middle\" x=\"471.5\" y=\"-340.3\">output:</text>\n",
       "<polyline fill=\"none\" points=\"499,-332.5 499,-378.5 \" stroke=\"#000000\"/>\n",
       "<text fill=\"#000000\" font-family=\"Times,serif\" font-size=\"14.00\" text-anchor=\"middle\" x=\"561.5\" y=\"-363.3\">(None, 299, 299, 3)</text>\n",
       "<polyline fill=\"none\" points=\"499,-355.5 624,-355.5 \" stroke=\"#000000\"/>\n",
       "<text fill=\"#000000\" font-family=\"Times,serif\" font-size=\"14.00\" text-anchor=\"middle\" x=\"561.5\" y=\"-340.3\">(None, 299, 299, 3)</text>\n",
       "</g>\n",
       "<!-- 140619234810736&#45;&gt;140617691558856 -->\n",
       "<g class=\"edge\" id=\"edge2\">\n",
       "<title>140619234810736-&gt;140617691558856</title>\n",
       "<path d=\"M472.5,-415.3799C472.5,-407.1745 472.5,-397.7679 472.5,-388.8786\" fill=\"none\" stroke=\"#000000\"/>\n",
       "<polygon fill=\"#000000\" points=\"476.0001,-388.784 472.5,-378.784 469.0001,-388.784 476.0001,-388.784\" stroke=\"#000000\"/>\n",
       "</g>\n",
       "<!-- 140617626714408 -->\n",
       "<g class=\"node\" id=\"node5\">\n",
       "<title>140617626714408</title>\n",
       "<polygon fill=\"none\" points=\"654,-332.5 654,-378.5 957,-378.5 957,-332.5 654,-332.5\" stroke=\"#000000\"/>\n",
       "<text fill=\"#000000\" font-family=\"Times,serif\" font-size=\"14.00\" text-anchor=\"middle\" x=\"715.5\" y=\"-351.8\">lambda_7: Lambda</text>\n",
       "<polyline fill=\"none\" points=\"777,-332.5 777,-378.5 \" stroke=\"#000000\"/>\n",
       "<text fill=\"#000000\" font-family=\"Times,serif\" font-size=\"14.00\" text-anchor=\"middle\" x=\"804.5\" y=\"-363.3\">input:</text>\n",
       "<polyline fill=\"none\" points=\"777,-355.5 832,-355.5 \" stroke=\"#000000\"/>\n",
       "<text fill=\"#000000\" font-family=\"Times,serif\" font-size=\"14.00\" text-anchor=\"middle\" x=\"804.5\" y=\"-340.3\">output:</text>\n",
       "<polyline fill=\"none\" points=\"832,-332.5 832,-378.5 \" stroke=\"#000000\"/>\n",
       "<text fill=\"#000000\" font-family=\"Times,serif\" font-size=\"14.00\" text-anchor=\"middle\" x=\"894.5\" y=\"-363.3\">(None, 299, 299, 3)</text>\n",
       "<polyline fill=\"none\" points=\"832,-355.5 957,-355.5 \" stroke=\"#000000\"/>\n",
       "<text fill=\"#000000\" font-family=\"Times,serif\" font-size=\"14.00\" text-anchor=\"middle\" x=\"894.5\" y=\"-340.3\">(None, 299, 299, 3)</text>\n",
       "</g>\n",
       "<!-- 140619234810736&#45;&gt;140617626714408 -->\n",
       "<g class=\"edge\" id=\"edge3\">\n",
       "<title>140619234810736-&gt;140617626714408</title>\n",
       "<path d=\"M564.8168,-415.4901C607.7639,-404.7856 658.9881,-392.018 703.119,-381.0184\" fill=\"none\" stroke=\"#000000\"/>\n",
       "<polygon fill=\"#000000\" points=\"704.1469,-384.3693 713.0036,-378.5547 702.4539,-377.5771 704.1469,-384.3693\" stroke=\"#000000\"/>\n",
       "</g>\n",
       "<!-- 140617846467384 -->\n",
       "<g class=\"node\" id=\"node2\">\n",
       "<title>140617846467384</title>\n",
       "<polygon fill=\"none\" points=\"997.5,-415.5 997.5,-461.5 1309.5,-461.5 1309.5,-415.5 997.5,-415.5\" stroke=\"#000000\"/>\n",
       "<text fill=\"#000000\" font-family=\"Times,serif\" font-size=\"14.00\" text-anchor=\"middle\" x=\"1063.5\" y=\"-434.8\">input_12: InputLayer</text>\n",
       "<polyline fill=\"none\" points=\"1129.5,-415.5 1129.5,-461.5 \" stroke=\"#000000\"/>\n",
       "<text fill=\"#000000\" font-family=\"Times,serif\" font-size=\"14.00\" text-anchor=\"middle\" x=\"1157\" y=\"-446.3\">input:</text>\n",
       "<polyline fill=\"none\" points=\"1129.5,-438.5 1184.5,-438.5 \" stroke=\"#000000\"/>\n",
       "<text fill=\"#000000\" font-family=\"Times,serif\" font-size=\"14.00\" text-anchor=\"middle\" x=\"1157\" y=\"-423.3\">output:</text>\n",
       "<polyline fill=\"none\" points=\"1184.5,-415.5 1184.5,-461.5 \" stroke=\"#000000\"/>\n",
       "<text fill=\"#000000\" font-family=\"Times,serif\" font-size=\"14.00\" text-anchor=\"middle\" x=\"1247\" y=\"-446.3\">(None, 224, 224, 3)</text>\n",
       "<polyline fill=\"none\" points=\"1184.5,-438.5 1309.5,-438.5 \" stroke=\"#000000\"/>\n",
       "<text fill=\"#000000\" font-family=\"Times,serif\" font-size=\"14.00\" text-anchor=\"middle\" x=\"1247\" y=\"-423.3\">(None, 224, 224, 3)</text>\n",
       "</g>\n",
       "<!-- 140617691885464 -->\n",
       "<g class=\"node\" id=\"node6\">\n",
       "<title>140617691885464</title>\n",
       "<polygon fill=\"none\" points=\"1002,-332.5 1002,-378.5 1305,-378.5 1305,-332.5 1002,-332.5\" stroke=\"#000000\"/>\n",
       "<text fill=\"#000000\" font-family=\"Times,serif\" font-size=\"14.00\" text-anchor=\"middle\" x=\"1063.5\" y=\"-351.8\">lambda_8: Lambda</text>\n",
       "<polyline fill=\"none\" points=\"1125,-332.5 1125,-378.5 \" stroke=\"#000000\"/>\n",
       "<text fill=\"#000000\" font-family=\"Times,serif\" font-size=\"14.00\" text-anchor=\"middle\" x=\"1152.5\" y=\"-363.3\">input:</text>\n",
       "<polyline fill=\"none\" points=\"1125,-355.5 1180,-355.5 \" stroke=\"#000000\"/>\n",
       "<text fill=\"#000000\" font-family=\"Times,serif\" font-size=\"14.00\" text-anchor=\"middle\" x=\"1152.5\" y=\"-340.3\">output:</text>\n",
       "<polyline fill=\"none\" points=\"1180,-332.5 1180,-378.5 \" stroke=\"#000000\"/>\n",
       "<text fill=\"#000000\" font-family=\"Times,serif\" font-size=\"14.00\" text-anchor=\"middle\" x=\"1242.5\" y=\"-363.3\">(None, 224, 224, 3)</text>\n",
       "<polyline fill=\"none\" points=\"1180,-355.5 1305,-355.5 \" stroke=\"#000000\"/>\n",
       "<text fill=\"#000000\" font-family=\"Times,serif\" font-size=\"14.00\" text-anchor=\"middle\" x=\"1242.5\" y=\"-340.3\">(None, 224, 224, 3)</text>\n",
       "</g>\n",
       "<!-- 140617846467384&#45;&gt;140617691885464 -->\n",
       "<g class=\"edge\" id=\"edge4\">\n",
       "<title>140617846467384-&gt;140617691885464</title>\n",
       "<path d=\"M1153.5,-415.3799C1153.5,-407.1745 1153.5,-397.7679 1153.5,-388.8786\" fill=\"none\" stroke=\"#000000\"/>\n",
       "<polygon fill=\"#000000\" points=\"1157.0001,-388.784 1153.5,-378.784 1150.0001,-388.784 1157.0001,-388.784\" stroke=\"#000000\"/>\n",
       "</g>\n",
       "<!-- 140619208940344 -->\n",
       "<g class=\"node\" id=\"node7\">\n",
       "<title>140619208940344</title>\n",
       "<polygon fill=\"none\" points=\"8,-249.5 8,-295.5 295,-295.5 295,-249.5 8,-249.5\" stroke=\"#000000\"/>\n",
       "<text fill=\"#000000\" font-family=\"Times,serif\" font-size=\"14.00\" text-anchor=\"middle\" x=\"61.5\" y=\"-268.8\">xception: Model</text>\n",
       "<polyline fill=\"none\" points=\"115,-249.5 115,-295.5 \" stroke=\"#000000\"/>\n",
       "<text fill=\"#000000\" font-family=\"Times,serif\" font-size=\"14.00\" text-anchor=\"middle\" x=\"142.5\" y=\"-280.3\">input:</text>\n",
       "<polyline fill=\"none\" points=\"115,-272.5 170,-272.5 \" stroke=\"#000000\"/>\n",
       "<text fill=\"#000000\" font-family=\"Times,serif\" font-size=\"14.00\" text-anchor=\"middle\" x=\"142.5\" y=\"-257.3\">output:</text>\n",
       "<polyline fill=\"none\" points=\"170,-249.5 170,-295.5 \" stroke=\"#000000\"/>\n",
       "<text fill=\"#000000\" font-family=\"Times,serif\" font-size=\"14.00\" text-anchor=\"middle\" x=\"232.5\" y=\"-280.3\">(None, 299, 299, 3)</text>\n",
       "<polyline fill=\"none\" points=\"170,-272.5 295,-272.5 \" stroke=\"#000000\"/>\n",
       "<text fill=\"#000000\" font-family=\"Times,serif\" font-size=\"14.00\" text-anchor=\"middle\" x=\"232.5\" y=\"-257.3\">(None, 2048)</text>\n",
       "</g>\n",
       "<!-- 140617691885352&#45;&gt;140619208940344 -->\n",
       "<g class=\"edge\" id=\"edge5\">\n",
       "<title>140617691885352-&gt;140619208940344</title>\n",
       "<path d=\"M151.5,-332.3799C151.5,-324.1745 151.5,-314.7679 151.5,-305.8786\" fill=\"none\" stroke=\"#000000\"/>\n",
       "<polygon fill=\"#000000\" points=\"155.0001,-305.784 151.5,-295.784 148.0001,-305.784 155.0001,-305.784\" stroke=\"#000000\"/>\n",
       "</g>\n",
       "<!-- 140619234729656 -->\n",
       "<g class=\"node\" id=\"node8\">\n",
       "<title>140619234729656</title>\n",
       "<polygon fill=\"none\" points=\"313,-249.5 313,-295.5 624,-295.5 624,-249.5 313,-249.5\" stroke=\"#000000\"/>\n",
       "<text fill=\"#000000\" font-family=\"Times,serif\" font-size=\"14.00\" text-anchor=\"middle\" x=\"378.5\" y=\"-268.8\">inception_v3: Model</text>\n",
       "<polyline fill=\"none\" points=\"444,-249.5 444,-295.5 \" stroke=\"#000000\"/>\n",
       "<text fill=\"#000000\" font-family=\"Times,serif\" font-size=\"14.00\" text-anchor=\"middle\" x=\"471.5\" y=\"-280.3\">input:</text>\n",
       "<polyline fill=\"none\" points=\"444,-272.5 499,-272.5 \" stroke=\"#000000\"/>\n",
       "<text fill=\"#000000\" font-family=\"Times,serif\" font-size=\"14.00\" text-anchor=\"middle\" x=\"471.5\" y=\"-257.3\">output:</text>\n",
       "<polyline fill=\"none\" points=\"499,-249.5 499,-295.5 \" stroke=\"#000000\"/>\n",
       "<text fill=\"#000000\" font-family=\"Times,serif\" font-size=\"14.00\" text-anchor=\"middle\" x=\"561.5\" y=\"-280.3\">(None, 299, 299, 3)</text>\n",
       "<polyline fill=\"none\" points=\"499,-272.5 624,-272.5 \" stroke=\"#000000\"/>\n",
       "<text fill=\"#000000\" font-family=\"Times,serif\" font-size=\"14.00\" text-anchor=\"middle\" x=\"561.5\" y=\"-257.3\">(None, 2048)</text>\n",
       "</g>\n",
       "<!-- 140617691558856&#45;&gt;140619234729656 -->\n",
       "<g class=\"edge\" id=\"edge6\">\n",
       "<title>140617691558856-&gt;140619234729656</title>\n",
       "<path d=\"M471.3858,-332.3799C470.9903,-324.1745 470.537,-314.7679 470.1086,-305.8786\" fill=\"none\" stroke=\"#000000\"/>\n",
       "<polygon fill=\"#000000\" points=\"473.5995,-305.6039 469.6221,-295.784 466.6076,-305.9409 473.5995,-305.6039\" stroke=\"#000000\"/>\n",
       "</g>\n",
       "<!-- 140617941696464 -->\n",
       "<g class=\"node\" id=\"node9\">\n",
       "<title>140617941696464</title>\n",
       "<polygon fill=\"none\" points=\"642.5,-249.5 642.5,-295.5 992.5,-295.5 992.5,-249.5 642.5,-249.5\" stroke=\"#000000\"/>\n",
       "<text fill=\"#000000\" font-family=\"Times,serif\" font-size=\"14.00\" text-anchor=\"middle\" x=\"727.5\" y=\"-268.8\">inception_resnet_v2: Model</text>\n",
       "<polyline fill=\"none\" points=\"812.5,-249.5 812.5,-295.5 \" stroke=\"#000000\"/>\n",
       "<text fill=\"#000000\" font-family=\"Times,serif\" font-size=\"14.00\" text-anchor=\"middle\" x=\"840\" y=\"-280.3\">input:</text>\n",
       "<polyline fill=\"none\" points=\"812.5,-272.5 867.5,-272.5 \" stroke=\"#000000\"/>\n",
       "<text fill=\"#000000\" font-family=\"Times,serif\" font-size=\"14.00\" text-anchor=\"middle\" x=\"840\" y=\"-257.3\">output:</text>\n",
       "<polyline fill=\"none\" points=\"867.5,-249.5 867.5,-295.5 \" stroke=\"#000000\"/>\n",
       "<text fill=\"#000000\" font-family=\"Times,serif\" font-size=\"14.00\" text-anchor=\"middle\" x=\"930\" y=\"-280.3\">(None, 299, 299, 3)</text>\n",
       "<polyline fill=\"none\" points=\"867.5,-272.5 992.5,-272.5 \" stroke=\"#000000\"/>\n",
       "<text fill=\"#000000\" font-family=\"Times,serif\" font-size=\"14.00\" text-anchor=\"middle\" x=\"930\" y=\"-257.3\">(None, 1536)</text>\n",
       "</g>\n",
       "<!-- 140617626714408&#45;&gt;140617941696464 -->\n",
       "<g class=\"edge\" id=\"edge7\">\n",
       "<title>140617626714408-&gt;140617941696464</title>\n",
       "<path d=\"M808.8427,-332.3799C810.029,-324.1745 811.389,-314.7679 812.6742,-305.8786\" fill=\"none\" stroke=\"#000000\"/>\n",
       "<polygon fill=\"#000000\" points=\"816.1666,-306.1819 814.1336,-295.784 809.2387,-305.1803 816.1666,-306.1819\" stroke=\"#000000\"/>\n",
       "</g>\n",
       "<!-- 140617691885240 -->\n",
       "<g class=\"node\" id=\"node10\">\n",
       "<title>140617691885240</title>\n",
       "<polygon fill=\"none\" points=\"1010.5,-249.5 1010.5,-295.5 1296.5,-295.5 1296.5,-249.5 1010.5,-249.5\" stroke=\"#000000\"/>\n",
       "<text fill=\"#000000\" font-family=\"Times,serif\" font-size=\"14.00\" text-anchor=\"middle\" x=\"1063.5\" y=\"-268.8\">resnet50: Model</text>\n",
       "<polyline fill=\"none\" points=\"1116.5,-249.5 1116.5,-295.5 \" stroke=\"#000000\"/>\n",
       "<text fill=\"#000000\" font-family=\"Times,serif\" font-size=\"14.00\" text-anchor=\"middle\" x=\"1144\" y=\"-280.3\">input:</text>\n",
       "<polyline fill=\"none\" points=\"1116.5,-272.5 1171.5,-272.5 \" stroke=\"#000000\"/>\n",
       "<text fill=\"#000000\" font-family=\"Times,serif\" font-size=\"14.00\" text-anchor=\"middle\" x=\"1144\" y=\"-257.3\">output:</text>\n",
       "<polyline fill=\"none\" points=\"1171.5,-249.5 1171.5,-295.5 \" stroke=\"#000000\"/>\n",
       "<text fill=\"#000000\" font-family=\"Times,serif\" font-size=\"14.00\" text-anchor=\"middle\" x=\"1234\" y=\"-280.3\">(None, 224, 224, 3)</text>\n",
       "<polyline fill=\"none\" points=\"1171.5,-272.5 1296.5,-272.5 \" stroke=\"#000000\"/>\n",
       "<text fill=\"#000000\" font-family=\"Times,serif\" font-size=\"14.00\" text-anchor=\"middle\" x=\"1234\" y=\"-257.3\">(None, 2048)</text>\n",
       "</g>\n",
       "<!-- 140617691885464&#45;&gt;140617691885240 -->\n",
       "<g class=\"edge\" id=\"edge8\">\n",
       "<title>140617691885464-&gt;140617691885240</title>\n",
       "<path d=\"M1153.5,-332.3799C1153.5,-324.1745 1153.5,-314.7679 1153.5,-305.8786\" fill=\"none\" stroke=\"#000000\"/>\n",
       "<polygon fill=\"#000000\" points=\"1157.0001,-305.784 1153.5,-295.784 1150.0001,-305.784 1157.0001,-305.784\" stroke=\"#000000\"/>\n",
       "</g>\n",
       "<!-- 140617691558184 -->\n",
       "<g class=\"node\" id=\"node11\">\n",
       "<title>140617691558184</title>\n",
       "<polygon fill=\"none\" points=\"361.5,-166.5 361.5,-212.5 923.5,-212.5 923.5,-166.5 361.5,-166.5\" stroke=\"#000000\"/>\n",
       "<text fill=\"#000000\" font-family=\"Times,serif\" font-size=\"14.00\" text-anchor=\"middle\" x=\"445.5\" y=\"-185.8\">concatenate_6: Concatenate</text>\n",
       "<polyline fill=\"none\" points=\"529.5,-166.5 529.5,-212.5 \" stroke=\"#000000\"/>\n",
       "<text fill=\"#000000\" font-family=\"Times,serif\" font-size=\"14.00\" text-anchor=\"middle\" x=\"557\" y=\"-197.3\">input:</text>\n",
       "<polyline fill=\"none\" points=\"529.5,-189.5 584.5,-189.5 \" stroke=\"#000000\"/>\n",
       "<text fill=\"#000000\" font-family=\"Times,serif\" font-size=\"14.00\" text-anchor=\"middle\" x=\"557\" y=\"-174.3\">output:</text>\n",
       "<polyline fill=\"none\" points=\"584.5,-166.5 584.5,-212.5 \" stroke=\"#000000\"/>\n",
       "<text fill=\"#000000\" font-family=\"Times,serif\" font-size=\"14.00\" text-anchor=\"middle\" x=\"754\" y=\"-197.3\">[(None, 2048), (None, 2048), (None, 1536), (None, 2048)]</text>\n",
       "<polyline fill=\"none\" points=\"584.5,-189.5 923.5,-189.5 \" stroke=\"#000000\"/>\n",
       "<text fill=\"#000000\" font-family=\"Times,serif\" font-size=\"14.00\" text-anchor=\"middle\" x=\"754\" y=\"-174.3\">(None, 7680)</text>\n",
       "</g>\n",
       "<!-- 140619208940344&#45;&gt;140617691558184 -->\n",
       "<g class=\"edge\" id=\"edge9\">\n",
       "<title>140619208940344-&gt;140617691558184</title>\n",
       "<path d=\"M287.6188,-249.4901C352.4065,-238.5382 429.9693,-225.4268 496.036,-214.2587\" fill=\"none\" stroke=\"#000000\"/>\n",
       "<polygon fill=\"#000000\" points=\"496.8397,-217.6726 506.1164,-212.5547 495.6729,-210.7705 496.8397,-217.6726\" stroke=\"#000000\"/>\n",
       "</g>\n",
       "<!-- 140619234729656&#45;&gt;140617691558184 -->\n",
       "<g class=\"edge\" id=\"edge10\">\n",
       "<title>140619234729656-&gt;140617691558184</title>\n",
       "<path d=\"M516.9687,-249.3799C537.9977,-239.3488 562.7905,-227.5224 584.7642,-217.0406\" fill=\"none\" stroke=\"#000000\"/>\n",
       "<polygon fill=\"#000000\" points=\"586.4709,-220.1044 593.9897,-212.6399 583.4571,-213.7864 586.4709,-220.1044\" stroke=\"#000000\"/>\n",
       "</g>\n",
       "<!-- 140617941696464&#45;&gt;140617691558184 -->\n",
       "<g class=\"edge\" id=\"edge11\">\n",
       "<title>140617941696464-&gt;140617691558184</title>\n",
       "<path d=\"M768.7527,-249.3799C747.6029,-239.3488 722.6676,-227.5224 700.5676,-217.0406\" fill=\"none\" stroke=\"#000000\"/>\n",
       "<polygon fill=\"#000000\" points=\"701.8242,-213.763 691.289,-212.6399 698.8245,-220.0877 701.8242,-213.763\" stroke=\"#000000\"/>\n",
       "</g>\n",
       "<!-- 140617691885240&#45;&gt;140617691558184 -->\n",
       "<g class=\"edge\" id=\"edge12\">\n",
       "<title>140617691885240-&gt;140617691558184</title>\n",
       "<path d=\"M1011.8366,-249.4901C944.2715,-238.5157 863.3562,-225.3729 794.5065,-214.1899\" fill=\"none\" stroke=\"#000000\"/>\n",
       "<polygon fill=\"#000000\" points=\"794.8708,-210.7033 784.439,-212.5547 793.7484,-217.6127 794.8708,-210.7033\" stroke=\"#000000\"/>\n",
       "</g>\n",
       "<!-- 140617691558968 -->\n",
       "<g class=\"node\" id=\"node12\">\n",
       "<title>140617691558968</title>\n",
       "<polygon fill=\"none\" points=\"508,-83.5 508,-129.5 777,-129.5 777,-83.5 508,-83.5\" stroke=\"#000000\"/>\n",
       "<text fill=\"#000000\" font-family=\"Times,serif\" font-size=\"14.00\" text-anchor=\"middle\" x=\"570.5\" y=\"-102.8\">dropout_2: Dropout</text>\n",
       "<polyline fill=\"none\" points=\"633,-83.5 633,-129.5 \" stroke=\"#000000\"/>\n",
       "<text fill=\"#000000\" font-family=\"Times,serif\" font-size=\"14.00\" text-anchor=\"middle\" x=\"660.5\" y=\"-114.3\">input:</text>\n",
       "<polyline fill=\"none\" points=\"633,-106.5 688,-106.5 \" stroke=\"#000000\"/>\n",
       "<text fill=\"#000000\" font-family=\"Times,serif\" font-size=\"14.00\" text-anchor=\"middle\" x=\"660.5\" y=\"-91.3\">output:</text>\n",
       "<polyline fill=\"none\" points=\"688,-83.5 688,-129.5 \" stroke=\"#000000\"/>\n",
       "<text fill=\"#000000\" font-family=\"Times,serif\" font-size=\"14.00\" text-anchor=\"middle\" x=\"732.5\" y=\"-114.3\">(None, 7680)</text>\n",
       "<polyline fill=\"none\" points=\"688,-106.5 777,-106.5 \" stroke=\"#000000\"/>\n",
       "<text fill=\"#000000\" font-family=\"Times,serif\" font-size=\"14.00\" text-anchor=\"middle\" x=\"732.5\" y=\"-91.3\">(None, 7680)</text>\n",
       "</g>\n",
       "<!-- 140617691558184&#45;&gt;140617691558968 -->\n",
       "<g class=\"edge\" id=\"edge13\">\n",
       "<title>140617691558184-&gt;140617691558968</title>\n",
       "<path d=\"M642.5,-166.3799C642.5,-158.1745 642.5,-148.7679 642.5,-139.8786\" fill=\"none\" stroke=\"#000000\"/>\n",
       "<polygon fill=\"#000000\" points=\"646.0001,-139.784 642.5,-129.784 639.0001,-139.784 646.0001,-139.784\" stroke=\"#000000\"/>\n",
       "</g>\n",
       "<!-- 140617365271608 -->\n",
       "<g class=\"node\" id=\"node13\">\n",
       "<title>140617365271608</title>\n",
       "<polygon fill=\"none\" points=\"519.5,-.5 519.5,-46.5 765.5,-46.5 765.5,-.5 519.5,-.5\" stroke=\"#000000\"/>\n",
       "<text fill=\"#000000\" font-family=\"Times,serif\" font-size=\"14.00\" text-anchor=\"middle\" x=\"570.5\" y=\"-19.8\">dense_2: Dense</text>\n",
       "<polyline fill=\"none\" points=\"621.5,-.5 621.5,-46.5 \" stroke=\"#000000\"/>\n",
       "<text fill=\"#000000\" font-family=\"Times,serif\" font-size=\"14.00\" text-anchor=\"middle\" x=\"649\" y=\"-31.3\">input:</text>\n",
       "<polyline fill=\"none\" points=\"621.5,-23.5 676.5,-23.5 \" stroke=\"#000000\"/>\n",
       "<text fill=\"#000000\" font-family=\"Times,serif\" font-size=\"14.00\" text-anchor=\"middle\" x=\"649\" y=\"-8.3\">output:</text>\n",
       "<polyline fill=\"none\" points=\"676.5,-.5 676.5,-46.5 \" stroke=\"#000000\"/>\n",
       "<text fill=\"#000000\" font-family=\"Times,serif\" font-size=\"14.00\" text-anchor=\"middle\" x=\"721\" y=\"-31.3\">(None, 7680)</text>\n",
       "<polyline fill=\"none\" points=\"676.5,-23.5 765.5,-23.5 \" stroke=\"#000000\"/>\n",
       "<text fill=\"#000000\" font-family=\"Times,serif\" font-size=\"14.00\" text-anchor=\"middle\" x=\"721\" y=\"-8.3\">(None, 1)</text>\n",
       "</g>\n",
       "<!-- 140617691558968&#45;&gt;140617365271608 -->\n",
       "<g class=\"edge\" id=\"edge14\">\n",
       "<title>140617691558968-&gt;140617365271608</title>\n",
       "<path d=\"M642.5,-83.3799C642.5,-75.1745 642.5,-65.7679 642.5,-56.8786\" fill=\"none\" stroke=\"#000000\"/>\n",
       "<polygon fill=\"#000000\" points=\"646.0001,-56.784 642.5,-46.784 639.0001,-56.784 646.0001,-56.784\" stroke=\"#000000\"/>\n",
       "</g>\n",
       "</g>\n",
       "</svg>"
      ],
      "text/plain": [
       "<IPython.core.display.SVG object>"
      ]
     },
     "execution_count": 22,
     "metadata": {},
     "output_type": "execute_result"
    }
   ],
   "source": [
    "from IPython.display import SVG\n",
    "from keras.utils.vis_utils import plot_model, model_to_dot\n",
    "\n",
    "#plot_model(mixed_model, to_file='mixed_model.png')\n",
    "SVG(model_to_dot(mixed_model, show_shapes=True).create(prog='dot', format='svg'))"
   ]
  },
  {
   "cell_type": "code",
   "execution_count": 29,
   "metadata": {},
   "outputs": [
    {
     "name": "stdout",
     "output_type": "stream",
     "text": [
      "Found 19848 images belonging to 2 classes.\n",
      "Found 4961 images belonging to 2 classes.\n",
      "Found 12500 images belonging to 1 classes.\n"
     ]
    }
   ],
   "source": [
    "batch_size = 50\n",
    "train_generator, valid_generator, test_generator = build_generator(batch_size=batch_size, img_size=(299, 299))\n",
    "def generate_generator_2inputs(gen=img_gen, directory='', \n",
    "                               size1=(299, 299), size2=(224, 224), \n",
    "                               subset=None, \n",
    "                               shuffle=True,\n",
    "                               batch_size=32):\n",
    "    genX1 = gen.flow_from_directory(directory=directory,\n",
    "                                    target_size=size1,\n",
    "                                    class_mode='binary',\n",
    "                                    batch_size=batch_size,\n",
    "                                    subset=subset,\n",
    "                                    shuffle=shuffle,\n",
    "                                    seed=42)\n",
    "    \n",
    "    genX2 = gen.flow_from_directory(directory=directory,\n",
    "                                    target_size=size2,\n",
    "                                    class_mode='binary',\n",
    "                                    batch_size=batch_size,\n",
    "                                    subset=subset,\n",
    "                                    shuffle=shuffle,\n",
    "                                    seed=42)\n",
    "    while True:\n",
    "        X1i = genX1.next()\n",
    "        X2i = genX2.next()\n",
    "        yield [X1i[0], X2i[0]], X2i[1]  #Yield both images and their mutual label\n",
    "        \n",
    "inputgenerator = generate_generator_2inputs(gen=img_gen, directory='train3',\n",
    "                                            subset='training',\n",
    "                                            batch_size=batch_size)       \n",
    "\n",
    "validgenerator = generate_generator_2inputs(gen=img_gen, directory='train3',\n",
    "                                            subset='validation',\n",
    "                                            batch_size=batch_size)\n",
    "\n",
    "testgenerator = generate_generator_2inputs(gen=test_gen, directory='test2',\n",
    "                                           shuffle=False,\n",
    "                                           batch_size=batch_size) "
   ]
  },
  {
   "cell_type": "code",
   "execution_count": 30,
   "metadata": {},
   "outputs": [],
   "source": [
    "train_steps = 19848//batch_size\n",
    "valid_steps = 4961//batch_size"
   ]
  },
  {
   "cell_type": "code",
   "execution_count": 31,
   "metadata": {},
   "outputs": [
    {
     "name": "stdout",
     "output_type": "stream",
     "text": [
      "Epoch 1/3\n",
      "Found 19848 images belonging to 2 classes.\n",
      "Found 19848 images belonging to 2 classes.\n",
      "395/396 [============================>.] - ETA: 0s - loss: 0.0260 - acc: 0.9907Found 4961 images belonging to 2 classes.\n",
      "Found 4961 images belonging to 2 classes.\n",
      "396/396 [==============================] - 311s 784ms/step - loss: 0.0261 - acc: 0.9907 - val_loss: 0.0327 - val_acc: 0.9937\n",
      "Epoch 2/3\n",
      "396/396 [==============================] - 298s 754ms/step - loss: 0.0251 - acc: 0.9911 - val_loss: 0.0328 - val_acc: 0.9935\n",
      "Epoch 3/3\n",
      "396/396 [==============================] - 298s 753ms/step - loss: 0.0229 - acc: 0.9918 - val_loss: 0.0390 - val_acc: 0.9923\n"
     ]
    }
   ],
   "source": [
    "modelck_ft = ModelCheckpoint('mixed_weights.{epoch:02d}-{val_loss:.2f}.hdf5',\n",
    "                            save_best_only=True,\n",
    "                            save_weights_only=True)\n",
    "mixed_hist = mixed_model.fit_generator(inputgenerator, epochs=3, \n",
    "                                       steps_per_epoch=train_steps,\n",
    "                                       validation_data=validgenerator,\n",
    "                                       validation_steps=valid_steps,\n",
    "                                       callbacks=[modelck_ft])"
   ]
  },
  {
   "cell_type": "code",
   "execution_count": 32,
   "metadata": {},
   "outputs": [
    {
     "data": {
      "image/png": "[encoded data removed]",
      "text/plain": [
       "<Figure size 432x288 with 2 Axes>"
      ]
     },
     "metadata": {
      "image/png": {
       "height": 263,
       "width": 386
      }
     },
     "output_type": "display_data"
    }
   ],
   "source": [
    "plot_hist('Mixed model ', mixed_hist.history)"
   ]
  },
  {
   "cell_type": "code",
   "execution_count": 33,
   "metadata": {},
   "outputs": [
    {
     "name": "stdout",
     "output_type": "stream",
     "text": [
      "Found 12500 images belonging to 1 classes.\n",
      "Found 12500 images belonging to 1 classes.\n",
      "250/250 [==============================] - 157s 627ms/step\n"
     ]
    }
   ],
   "source": [
    "y_pred = mixed_model.predict_generator(testgenerator, verbose=1, steps=12500//batch_size)\n",
    "y_pred = y_pred.clip(min=0.005, max=0.995)"
   ]
  },
  {
   "cell_type": "code",
   "execution_count": 35,
   "metadata": {},
   "outputs": [
    {
     "data": {
      "text/html": [
       "<div>\n",
       "<style scoped>\n",
       "    .dataframe tbody tr th:only-of-type {\n",
       "        vertical-align: middle;\n",
       "    }\n",
       "\n",
       "    .dataframe tbody tr th {\n",
       "        vertical-align: top;\n",
       "    }\n",
       "\n",
       "    .dataframe thead th {\n",
       "        text-align: right;\n",
       "    }\n",
       "</style>\n",
       "<table border=\"1\" class=\"dataframe\">\n",
       "  <thead>\n",
       "    <tr style=\"text-align: right;\">\n",
       "      <th></th>\n",
       "      <th>id</th>\n",
       "      <th>label</th>\n",
       "    </tr>\n",
       "  </thead>\n",
       "  <tbody>\n",
       "    <tr>\n",
       "      <th>0</th>\n",
       "      <td>1</td>\n",
       "      <td>0.995</td>\n",
       "    </tr>\n",
       "    <tr>\n",
       "      <th>1</th>\n",
       "      <td>2</td>\n",
       "      <td>0.995</td>\n",
       "    </tr>\n",
       "    <tr>\n",
       "      <th>2</th>\n",
       "      <td>3</td>\n",
       "      <td>0.995</td>\n",
       "    </tr>\n",
       "    <tr>\n",
       "      <th>3</th>\n",
       "      <td>4</td>\n",
       "      <td>0.995</td>\n",
       "    </tr>\n",
       "    <tr>\n",
       "      <th>4</th>\n",
       "      <td>5</td>\n",
       "      <td>0.005</td>\n",
       "    </tr>\n",
       "    <tr>\n",
       "      <th>5</th>\n",
       "      <td>6</td>\n",
       "      <td>0.005</td>\n",
       "    </tr>\n",
       "    <tr>\n",
       "      <th>6</th>\n",
       "      <td>7</td>\n",
       "      <td>0.005</td>\n",
       "    </tr>\n",
       "    <tr>\n",
       "      <th>7</th>\n",
       "      <td>8</td>\n",
       "      <td>0.005</td>\n",
       "    </tr>\n",
       "    <tr>\n",
       "      <th>8</th>\n",
       "      <td>9</td>\n",
       "      <td>0.005</td>\n",
       "    </tr>\n",
       "    <tr>\n",
       "      <th>9</th>\n",
       "      <td>10</td>\n",
       "      <td>0.005</td>\n",
       "    </tr>\n",
       "  </tbody>\n",
       "</table>\n",
       "</div>"
      ],
      "text/plain": [
       "   id  label\n",
       "0   1  0.995\n",
       "1   2  0.995\n",
       "2   3  0.995\n",
       "3   4  0.995\n",
       "4   5  0.005\n",
       "5   6  0.005\n",
       "6   7  0.005\n",
       "7   8  0.005\n",
       "8   9  0.005\n",
       "9  10  0.005"
      ]
     },
     "execution_count": 35,
     "metadata": {},
     "output_type": "execute_result"
    }
   ],
   "source": [
    "mixed_pred = pd.read_csv(\"sample_submission.csv\")\n",
    "for i, fname in enumerate(test_generator.filenames):\n",
    "    index = int(fname[fname.rfind('/')+1:fname.rfind('.')])\n",
    "    mixed_pred.at[index-1, 'label'] = y_pred[i]\n",
    "\n",
    "mixed_pred.to_csv('mixed_pred.csv', index=False)\n",
    "mixed_pred.head(10)"
   ]
  },
  {
   "cell_type": "code",
   "execution_count": 47,
   "metadata": {},
   "outputs": [
    {
     "name": "stdout",
     "output_type": "stream",
     "text": [
      "mixed_model has 13 layers.\n"
     ]
    }
   ],
   "source": [
    "xce_model = Xception(weights='imagenet', input_shape=(299, 299, 3), include_top=False, pooling='avg')\n",
    "vgg_model = VGG16(weights='imagenet', input_shape=(224, 224, 3), include_top=False, pooling='avg')\n",
    "inrev2_model = InceptionResNetV2(weights='imagenet', input_shape=(299, 299, 3), include_top=False, pooling='avg')\n",
    "rene50_model = ResNet50(weights='imagenet', input_shape=(224, 224, 3), include_top=False, pooling='avg')\n",
    "\n",
    "input_t1 = Input((299, 299, 3)) #xception, InceptionV3, InceptionResNetV2\n",
    "a = Lambda(xception.preprocess_input)(input_t1)\n",
    "a = xce_model(a)\n",
    "c = Lambda(inception_resnet_v2.preprocess_input)(input_t1)\n",
    "c = inrev2_model(c)\n",
    "\n",
    "input_t2 = Input((224, 224, 3)) #ResNet50\n",
    "b = Lambda(vgg16.preprocess_input)(input_t2)\n",
    "b = vgg_model(b)\n",
    "d = Lambda(resnet50.preprocess_input)(input_t2)\n",
    "d = rene50_model(d)\n",
    "\n",
    "x = Concatenate()([a, c, b, d])\n",
    "x = Dropout(0.5)(x)\n",
    "x = Dense(1, activation='sigmoid', kernel_initializer='he_normal')(x)\n",
    "\n",
    "mixed2_model = Model([input_t1, input_t2], x)\n",
    "for layer in mixed2_model.layers[:10]:\n",
    "    layer.trainable = False\n",
    "\n",
    "mixed2_model.compile(optimizer='adadelta', loss='binary_crossentropy', metrics=['accuracy'])\n",
    "print('mixed_model has %d layers.' % (len(mixed2_model.layers)))"
   ]
  },
  {
   "cell_type": "code",
   "execution_count": 48,
   "metadata": {},
   "outputs": [
    {
     "name": "stdout",
     "output_type": "stream",
     "text": [
      "Fontconfig warning: ignoring UTF-8: not a valid region tag\n",
      "\n"
     ]
    },
    {
     "data": {
      "image/svg+xml": [
       "<svg height=\"470pt\" viewBox=\"0.00 0.00 1306.00 470.00\" width=\"1306pt\" xmlns=\"http://www.w3.org/2000/svg\" xmlns:xlink=\"http://www.w3.org/1999/xlink\">\n",
       "<g class=\"graph\" id=\"graph0\" transform=\"scale(1 1) rotate(0) translate(4 466)\">\n",
       "<title>G</title>\n",
       "<polygon fill=\"#ffffff\" points=\"-4,4 -4,-466 1302,-466 1302,4 -4,4\" stroke=\"transparent\"/>\n",
       "<!-- 140615271558728 -->\n",
       "<g class=\"node\" id=\"node1\">\n",
       "<title>140615271558728</title>\n",
       "<polygon fill=\"none\" points=\"247,-415.5 247,-461.5 559,-461.5 559,-415.5 247,-415.5\" stroke=\"#000000\"/>\n",
       "<text fill=\"#000000\" font-family=\"Times,serif\" font-size=\"14.00\" text-anchor=\"middle\" x=\"313\" y=\"-434.8\">input_32: InputLayer</text>\n",
       "<polyline fill=\"none\" points=\"379,-415.5 379,-461.5 \" stroke=\"#000000\"/>\n",
       "<text fill=\"#000000\" font-family=\"Times,serif\" font-size=\"14.00\" text-anchor=\"middle\" x=\"406.5\" y=\"-446.3\">input:</text>\n",
       "<polyline fill=\"none\" points=\"379,-438.5 434,-438.5 \" stroke=\"#000000\"/>\n",
       "<text fill=\"#000000\" font-family=\"Times,serif\" font-size=\"14.00\" text-anchor=\"middle\" x=\"406.5\" y=\"-423.3\">output:</text>\n",
       "<polyline fill=\"none\" points=\"434,-415.5 434,-461.5 \" stroke=\"#000000\"/>\n",
       "<text fill=\"#000000\" font-family=\"Times,serif\" font-size=\"14.00\" text-anchor=\"middle\" x=\"496.5\" y=\"-446.3\">(None, 299, 299, 3)</text>\n",
       "<polyline fill=\"none\" points=\"434,-438.5 559,-438.5 \" stroke=\"#000000\"/>\n",
       "<text fill=\"#000000\" font-family=\"Times,serif\" font-size=\"14.00\" text-anchor=\"middle\" x=\"496.5\" y=\"-423.3\">(None, 299, 299, 3)</text>\n",
       "</g>\n",
       "<!-- 140615306536664 -->\n",
       "<g class=\"node\" id=\"node3\">\n",
       "<title>140615306536664</title>\n",
       "<polygon fill=\"none\" points=\"0,-332.5 0,-378.5 310,-378.5 310,-332.5 0,-332.5\" stroke=\"#000000\"/>\n",
       "<text fill=\"#000000\" font-family=\"Times,serif\" font-size=\"14.00\" text-anchor=\"middle\" x=\"65\" y=\"-351.8\">lambda_16: Lambda</text>\n",
       "<polyline fill=\"none\" points=\"130,-332.5 130,-378.5 \" stroke=\"#000000\"/>\n",
       "<text fill=\"#000000\" font-family=\"Times,serif\" font-size=\"14.00\" text-anchor=\"middle\" x=\"157.5\" y=\"-363.3\">input:</text>\n",
       "<polyline fill=\"none\" points=\"130,-355.5 185,-355.5 \" stroke=\"#000000\"/>\n",
       "<text fill=\"#000000\" font-family=\"Times,serif\" font-size=\"14.00\" text-anchor=\"middle\" x=\"157.5\" y=\"-340.3\">output:</text>\n",
       "<polyline fill=\"none\" points=\"185,-332.5 185,-378.5 \" stroke=\"#000000\"/>\n",
       "<text fill=\"#000000\" font-family=\"Times,serif\" font-size=\"14.00\" text-anchor=\"middle\" x=\"247.5\" y=\"-363.3\">(None, 299, 299, 3)</text>\n",
       "<polyline fill=\"none\" points=\"185,-355.5 310,-355.5 \" stroke=\"#000000\"/>\n",
       "<text fill=\"#000000\" font-family=\"Times,serif\" font-size=\"14.00\" text-anchor=\"middle\" x=\"247.5\" y=\"-340.3\">(None, 299, 299, 3)</text>\n",
       "</g>\n",
       "<!-- 140615271558728&#45;&gt;140615306536664 -->\n",
       "<g class=\"edge\" id=\"edge1\">\n",
       "<title>140615271558728-&gt;140615306536664</title>\n",
       "<path d=\"M334.2475,-415.4901C303.0693,-405.0554 266.0335,-392.6604 233.7433,-381.8536\" fill=\"none\" stroke=\"#000000\"/>\n",
       "<polygon fill=\"#000000\" points=\"234.4801,-378.4094 223.8862,-378.5547 232.2584,-385.0475 234.4801,-378.4094\" stroke=\"#000000\"/>\n",
       "</g>\n",
       "<!-- 140615306919888 -->\n",
       "<g class=\"node\" id=\"node4\">\n",
       "<title>140615306919888</title>\n",
       "<polygon fill=\"none\" points=\"330,-332.5 330,-378.5 640,-378.5 640,-332.5 330,-332.5\" stroke=\"#000000\"/>\n",
       "<text fill=\"#000000\" font-family=\"Times,serif\" font-size=\"14.00\" text-anchor=\"middle\" x=\"395\" y=\"-351.8\">lambda_17: Lambda</text>\n",
       "<polyline fill=\"none\" points=\"460,-332.5 460,-378.5 \" stroke=\"#000000\"/>\n",
       "<text fill=\"#000000\" font-family=\"Times,serif\" font-size=\"14.00\" text-anchor=\"middle\" x=\"487.5\" y=\"-363.3\">input:</text>\n",
       "<polyline fill=\"none\" points=\"460,-355.5 515,-355.5 \" stroke=\"#000000\"/>\n",
       "<text fill=\"#000000\" font-family=\"Times,serif\" font-size=\"14.00\" text-anchor=\"middle\" x=\"487.5\" y=\"-340.3\">output:</text>\n",
       "<polyline fill=\"none\" points=\"515,-332.5 515,-378.5 \" stroke=\"#000000\"/>\n",
       "<text fill=\"#000000\" font-family=\"Times,serif\" font-size=\"14.00\" text-anchor=\"middle\" x=\"577.5\" y=\"-363.3\">(None, 299, 299, 3)</text>\n",
       "<polyline fill=\"none\" points=\"515,-355.5 640,-355.5 \" stroke=\"#000000\"/>\n",
       "<text fill=\"#000000\" font-family=\"Times,serif\" font-size=\"14.00\" text-anchor=\"middle\" x=\"577.5\" y=\"-340.3\">(None, 299, 299, 3)</text>\n",
       "</g>\n",
       "<!-- 140615271558728&#45;&gt;140615306919888 -->\n",
       "<g class=\"edge\" id=\"edge2\">\n",
       "<title>140615271558728-&gt;140615306919888</title>\n",
       "<path d=\"M425.8416,-415.3799C434.8292,-406.2827 445.2757,-395.7088 454.867,-386.0005\" fill=\"none\" stroke=\"#000000\"/>\n",
       "<polygon fill=\"#000000\" points=\"457.4582,-388.3577 461.9965,-378.784 452.4786,-383.438 457.4582,-388.3577\" stroke=\"#000000\"/>\n",
       "</g>\n",
       "<!-- 140615720593672 -->\n",
       "<g class=\"node\" id=\"node2\">\n",
       "<title>140615720593672</title>\n",
       "<polygon fill=\"none\" points=\"740,-415.5 740,-461.5 1052,-461.5 1052,-415.5 740,-415.5\" stroke=\"#000000\"/>\n",
       "<text fill=\"#000000\" font-family=\"Times,serif\" font-size=\"14.00\" text-anchor=\"middle\" x=\"806\" y=\"-434.8\">input_33: InputLayer</text>\n",
       "<polyline fill=\"none\" points=\"872,-415.5 872,-461.5 \" stroke=\"#000000\"/>\n",
       "<text fill=\"#000000\" font-family=\"Times,serif\" font-size=\"14.00\" text-anchor=\"middle\" x=\"899.5\" y=\"-446.3\">input:</text>\n",
       "<polyline fill=\"none\" points=\"872,-438.5 927,-438.5 \" stroke=\"#000000\"/>\n",
       "<text fill=\"#000000\" font-family=\"Times,serif\" font-size=\"14.00\" text-anchor=\"middle\" x=\"899.5\" y=\"-423.3\">output:</text>\n",
       "<polyline fill=\"none\" points=\"927,-415.5 927,-461.5 \" stroke=\"#000000\"/>\n",
       "<text fill=\"#000000\" font-family=\"Times,serif\" font-size=\"14.00\" text-anchor=\"middle\" x=\"989.5\" y=\"-446.3\">(None, 224, 224, 3)</text>\n",
       "<polyline fill=\"none\" points=\"927,-438.5 1052,-438.5 \" stroke=\"#000000\"/>\n",
       "<text fill=\"#000000\" font-family=\"Times,serif\" font-size=\"14.00\" text-anchor=\"middle\" x=\"989.5\" y=\"-423.3\">(None, 224, 224, 3)</text>\n",
       "</g>\n",
       "<!-- 140615306535824 -->\n",
       "<g class=\"node\" id=\"node5\">\n",
       "<title>140615306535824</title>\n",
       "<polygon fill=\"none\" points=\"660,-332.5 660,-378.5 970,-378.5 970,-332.5 660,-332.5\" stroke=\"#000000\"/>\n",
       "<text fill=\"#000000\" font-family=\"Times,serif\" font-size=\"14.00\" text-anchor=\"middle\" x=\"725\" y=\"-351.8\">lambda_18: Lambda</text>\n",
       "<polyline fill=\"none\" points=\"790,-332.5 790,-378.5 \" stroke=\"#000000\"/>\n",
       "<text fill=\"#000000\" font-family=\"Times,serif\" font-size=\"14.00\" text-anchor=\"middle\" x=\"817.5\" y=\"-363.3\">input:</text>\n",
       "<polyline fill=\"none\" points=\"790,-355.5 845,-355.5 \" stroke=\"#000000\"/>\n",
       "<text fill=\"#000000\" font-family=\"Times,serif\" font-size=\"14.00\" text-anchor=\"middle\" x=\"817.5\" y=\"-340.3\">output:</text>\n",
       "<polyline fill=\"none\" points=\"845,-332.5 845,-378.5 \" stroke=\"#000000\"/>\n",
       "<text fill=\"#000000\" font-family=\"Times,serif\" font-size=\"14.00\" text-anchor=\"middle\" x=\"907.5\" y=\"-363.3\">(None, 224, 224, 3)</text>\n",
       "<polyline fill=\"none\" points=\"845,-355.5 970,-355.5 \" stroke=\"#000000\"/>\n",
       "<text fill=\"#000000\" font-family=\"Times,serif\" font-size=\"14.00\" text-anchor=\"middle\" x=\"907.5\" y=\"-340.3\">(None, 224, 224, 3)</text>\n",
       "</g>\n",
       "<!-- 140615720593672&#45;&gt;140615306535824 -->\n",
       "<g class=\"edge\" id=\"edge3\">\n",
       "<title>140615720593672-&gt;140615306535824</title>\n",
       "<path d=\"M873.437,-415.3799C864.559,-406.2827 854.2399,-395.7088 844.7655,-386.0005\" fill=\"none\" stroke=\"#000000\"/>\n",
       "<polygon fill=\"#000000\" points=\"847.2122,-383.4963 837.7229,-378.784 842.2024,-388.3853 847.2122,-383.4963\" stroke=\"#000000\"/>\n",
       "</g>\n",
       "<!-- 140615306917760 -->\n",
       "<g class=\"node\" id=\"node6\">\n",
       "<title>140615306917760</title>\n",
       "<polygon fill=\"none\" points=\"988,-332.5 988,-378.5 1298,-378.5 1298,-332.5 988,-332.5\" stroke=\"#000000\"/>\n",
       "<text fill=\"#000000\" font-family=\"Times,serif\" font-size=\"14.00\" text-anchor=\"middle\" x=\"1053\" y=\"-351.8\">lambda_19: Lambda</text>\n",
       "<polyline fill=\"none\" points=\"1118,-332.5 1118,-378.5 \" stroke=\"#000000\"/>\n",
       "<text fill=\"#000000\" font-family=\"Times,serif\" font-size=\"14.00\" text-anchor=\"middle\" x=\"1145.5\" y=\"-363.3\">input:</text>\n",
       "<polyline fill=\"none\" points=\"1118,-355.5 1173,-355.5 \" stroke=\"#000000\"/>\n",
       "<text fill=\"#000000\" font-family=\"Times,serif\" font-size=\"14.00\" text-anchor=\"middle\" x=\"1145.5\" y=\"-340.3\">output:</text>\n",
       "<polyline fill=\"none\" points=\"1173,-332.5 1173,-378.5 \" stroke=\"#000000\"/>\n",
       "<text fill=\"#000000\" font-family=\"Times,serif\" font-size=\"14.00\" text-anchor=\"middle\" x=\"1235.5\" y=\"-363.3\">(None, 224, 224, 3)</text>\n",
       "<polyline fill=\"none\" points=\"1173,-355.5 1298,-355.5 \" stroke=\"#000000\"/>\n",
       "<text fill=\"#000000\" font-family=\"Times,serif\" font-size=\"14.00\" text-anchor=\"middle\" x=\"1235.5\" y=\"-340.3\">(None, 224, 224, 3)</text>\n",
       "</g>\n",
       "<!-- 140615720593672&#45;&gt;140615306917760 -->\n",
       "<g class=\"edge\" id=\"edge4\">\n",
       "<title>140615720593672-&gt;140615306917760</title>\n",
       "<path d=\"M964.4753,-415.4901C995.5278,-405.0554 1032.4142,-392.6604 1064.5743,-381.8536\" fill=\"none\" stroke=\"#000000\"/>\n",
       "<polygon fill=\"#000000\" points=\"1066.0273,-385.0577 1074.3915,-378.5547 1063.7975,-378.4223 1066.0273,-385.0577\" stroke=\"#000000\"/>\n",
       "</g>\n",
       "<!-- 140615333011184 -->\n",
       "<g class=\"node\" id=\"node7\">\n",
       "<title>140615333011184</title>\n",
       "<polygon fill=\"none\" points=\"7.5,-249.5 7.5,-295.5 294.5,-295.5 294.5,-249.5 7.5,-249.5\" stroke=\"#000000\"/>\n",
       "<text fill=\"#000000\" font-family=\"Times,serif\" font-size=\"14.00\" text-anchor=\"middle\" x=\"61\" y=\"-268.8\">xception: Model</text>\n",
       "<polyline fill=\"none\" points=\"114.5,-249.5 114.5,-295.5 \" stroke=\"#000000\"/>\n",
       "<text fill=\"#000000\" font-family=\"Times,serif\" font-size=\"14.00\" text-anchor=\"middle\" x=\"142\" y=\"-280.3\">input:</text>\n",
       "<polyline fill=\"none\" points=\"114.5,-272.5 169.5,-272.5 \" stroke=\"#000000\"/>\n",
       "<text fill=\"#000000\" font-family=\"Times,serif\" font-size=\"14.00\" text-anchor=\"middle\" x=\"142\" y=\"-257.3\">output:</text>\n",
       "<polyline fill=\"none\" points=\"169.5,-249.5 169.5,-295.5 \" stroke=\"#000000\"/>\n",
       "<text fill=\"#000000\" font-family=\"Times,serif\" font-size=\"14.00\" text-anchor=\"middle\" x=\"232\" y=\"-280.3\">(None, 299, 299, 3)</text>\n",
       "<polyline fill=\"none\" points=\"169.5,-272.5 294.5,-272.5 \" stroke=\"#000000\"/>\n",
       "<text fill=\"#000000\" font-family=\"Times,serif\" font-size=\"14.00\" text-anchor=\"middle\" x=\"232\" y=\"-257.3\">(None, 2048)</text>\n",
       "</g>\n",
       "<!-- 140615306536664&#45;&gt;140615333011184 -->\n",
       "<g class=\"edge\" id=\"edge5\">\n",
       "<title>140615306536664-&gt;140615333011184</title>\n",
       "<path d=\"M153.8858,-332.3799C153.4903,-324.1745 153.037,-314.7679 152.6086,-305.8786\" fill=\"none\" stroke=\"#000000\"/>\n",
       "<polygon fill=\"#000000\" points=\"156.0995,-305.6039 152.1221,-295.784 149.1076,-305.9409 156.0995,-305.6039\" stroke=\"#000000\"/>\n",
       "</g>\n",
       "<!-- 140615005476456 -->\n",
       "<g class=\"node\" id=\"node8\">\n",
       "<title>140615005476456</title>\n",
       "<polygon fill=\"none\" points=\"313,-249.5 313,-295.5 663,-295.5 663,-249.5 313,-249.5\" stroke=\"#000000\"/>\n",
       "<text fill=\"#000000\" font-family=\"Times,serif\" font-size=\"14.00\" text-anchor=\"middle\" x=\"398\" y=\"-268.8\">inception_resnet_v2: Model</text>\n",
       "<polyline fill=\"none\" points=\"483,-249.5 483,-295.5 \" stroke=\"#000000\"/>\n",
       "<text fill=\"#000000\" font-family=\"Times,serif\" font-size=\"14.00\" text-anchor=\"middle\" x=\"510.5\" y=\"-280.3\">input:</text>\n",
       "<polyline fill=\"none\" points=\"483,-272.5 538,-272.5 \" stroke=\"#000000\"/>\n",
       "<text fill=\"#000000\" font-family=\"Times,serif\" font-size=\"14.00\" text-anchor=\"middle\" x=\"510.5\" y=\"-257.3\">output:</text>\n",
       "<polyline fill=\"none\" points=\"538,-249.5 538,-295.5 \" stroke=\"#000000\"/>\n",
       "<text fill=\"#000000\" font-family=\"Times,serif\" font-size=\"14.00\" text-anchor=\"middle\" x=\"600.5\" y=\"-280.3\">(None, 299, 299, 3)</text>\n",
       "<polyline fill=\"none\" points=\"538,-272.5 663,-272.5 \" stroke=\"#000000\"/>\n",
       "<text fill=\"#000000\" font-family=\"Times,serif\" font-size=\"14.00\" text-anchor=\"middle\" x=\"600.5\" y=\"-257.3\">(None, 1536)</text>\n",
       "</g>\n",
       "<!-- 140615306919888&#45;&gt;140615005476456 -->\n",
       "<g class=\"edge\" id=\"edge6\">\n",
       "<title>140615306919888-&gt;140615005476456</title>\n",
       "<path d=\"M485.8357,-332.3799C486.1322,-324.1745 486.4722,-314.7679 486.7935,-305.8786\" fill=\"none\" stroke=\"#000000\"/>\n",
       "<polygon fill=\"#000000\" points=\"490.2948,-305.9039 487.1584,-295.784 483.2994,-305.651 490.2948,-305.9039\" stroke=\"#000000\"/>\n",
       "</g>\n",
       "<!-- 140615277054048 -->\n",
       "<g class=\"node\" id=\"node9\">\n",
       "<title>140615277054048</title>\n",
       "<polygon fill=\"none\" points=\"681,-249.5 681,-295.5 955,-295.5 955,-249.5 681,-249.5\" stroke=\"#000000\"/>\n",
       "<text fill=\"#000000\" font-family=\"Times,serif\" font-size=\"14.00\" text-anchor=\"middle\" x=\"728\" y=\"-268.8\">vgg16: Model</text>\n",
       "<polyline fill=\"none\" points=\"775,-249.5 775,-295.5 \" stroke=\"#000000\"/>\n",
       "<text fill=\"#000000\" font-family=\"Times,serif\" font-size=\"14.00\" text-anchor=\"middle\" x=\"802.5\" y=\"-280.3\">input:</text>\n",
       "<polyline fill=\"none\" points=\"775,-272.5 830,-272.5 \" stroke=\"#000000\"/>\n",
       "<text fill=\"#000000\" font-family=\"Times,serif\" font-size=\"14.00\" text-anchor=\"middle\" x=\"802.5\" y=\"-257.3\">output:</text>\n",
       "<polyline fill=\"none\" points=\"830,-249.5 830,-295.5 \" stroke=\"#000000\"/>\n",
       "<text fill=\"#000000\" font-family=\"Times,serif\" font-size=\"14.00\" text-anchor=\"middle\" x=\"892.5\" y=\"-280.3\">(None, 224, 224, 3)</text>\n",
       "<polyline fill=\"none\" points=\"830,-272.5 955,-272.5 \" stroke=\"#000000\"/>\n",
       "<text fill=\"#000000\" font-family=\"Times,serif\" font-size=\"14.00\" text-anchor=\"middle\" x=\"892.5\" y=\"-257.3\">(None, 512)</text>\n",
       "</g>\n",
       "<!-- 140615306535824&#45;&gt;140615277054048 -->\n",
       "<g class=\"edge\" id=\"edge7\">\n",
       "<title>140615306535824-&gt;140615277054048</title>\n",
       "<path d=\"M815.8357,-332.3799C816.1322,-324.1745 816.4722,-314.7679 816.7935,-305.8786\" fill=\"none\" stroke=\"#000000\"/>\n",
       "<polygon fill=\"#000000\" points=\"820.2948,-305.9039 817.1584,-295.784 813.2994,-305.651 820.2948,-305.9039\" stroke=\"#000000\"/>\n",
       "</g>\n",
       "<!-- 140615306491720 -->\n",
       "<g class=\"node\" id=\"node10\">\n",
       "<title>140615306491720</title>\n",
       "<polygon fill=\"none\" points=\"986,-249.5 986,-295.5 1272,-295.5 1272,-249.5 986,-249.5\" stroke=\"#000000\"/>\n",
       "<text fill=\"#000000\" font-family=\"Times,serif\" font-size=\"14.00\" text-anchor=\"middle\" x=\"1039\" y=\"-268.8\">resnet50: Model</text>\n",
       "<polyline fill=\"none\" points=\"1092,-249.5 1092,-295.5 \" stroke=\"#000000\"/>\n",
       "<text fill=\"#000000\" font-family=\"Times,serif\" font-size=\"14.00\" text-anchor=\"middle\" x=\"1119.5\" y=\"-280.3\">input:</text>\n",
       "<polyline fill=\"none\" points=\"1092,-272.5 1147,-272.5 \" stroke=\"#000000\"/>\n",
       "<text fill=\"#000000\" font-family=\"Times,serif\" font-size=\"14.00\" text-anchor=\"middle\" x=\"1119.5\" y=\"-257.3\">output:</text>\n",
       "<polyline fill=\"none\" points=\"1147,-249.5 1147,-295.5 \" stroke=\"#000000\"/>\n",
       "<text fill=\"#000000\" font-family=\"Times,serif\" font-size=\"14.00\" text-anchor=\"middle\" x=\"1209.5\" y=\"-280.3\">(None, 224, 224, 3)</text>\n",
       "<polyline fill=\"none\" points=\"1147,-272.5 1272,-272.5 \" stroke=\"#000000\"/>\n",
       "<text fill=\"#000000\" font-family=\"Times,serif\" font-size=\"14.00\" text-anchor=\"middle\" x=\"1209.5\" y=\"-257.3\">(None, 2048)</text>\n",
       "</g>\n",
       "<!-- 140615306917760&#45;&gt;140615306491720 -->\n",
       "<g class=\"edge\" id=\"edge8\">\n",
       "<title>140615306917760-&gt;140615306491720</title>\n",
       "<path d=\"M1139.1002,-332.3799C1137.7162,-324.1745 1136.1295,-314.7679 1134.6301,-305.8786\" fill=\"none\" stroke=\"#000000\"/>\n",
       "<polygon fill=\"#000000\" points=\"1138.042,-305.0625 1132.9274,-295.784 1131.1395,-306.2269 1138.042,-305.0625\" stroke=\"#000000\"/>\n",
       "</g>\n",
       "<!-- 140614612136568 -->\n",
       "<g class=\"node\" id=\"node11\">\n",
       "<title>140614612136568</title>\n",
       "<polygon fill=\"none\" points=\"375.5,-166.5 375.5,-212.5 930.5,-212.5 930.5,-166.5 375.5,-166.5\" stroke=\"#000000\"/>\n",
       "<text fill=\"#000000\" font-family=\"Times,serif\" font-size=\"14.00\" text-anchor=\"middle\" x=\"459.5\" y=\"-185.8\">concatenate_9: Concatenate</text>\n",
       "<polyline fill=\"none\" points=\"543.5,-166.5 543.5,-212.5 \" stroke=\"#000000\"/>\n",
       "<text fill=\"#000000\" font-family=\"Times,serif\" font-size=\"14.00\" text-anchor=\"middle\" x=\"571\" y=\"-197.3\">input:</text>\n",
       "<polyline fill=\"none\" points=\"543.5,-189.5 598.5,-189.5 \" stroke=\"#000000\"/>\n",
       "<text fill=\"#000000\" font-family=\"Times,serif\" font-size=\"14.00\" text-anchor=\"middle\" x=\"571\" y=\"-174.3\">output:</text>\n",
       "<polyline fill=\"none\" points=\"598.5,-166.5 598.5,-212.5 \" stroke=\"#000000\"/>\n",
       "<text fill=\"#000000\" font-family=\"Times,serif\" font-size=\"14.00\" text-anchor=\"middle\" x=\"764.5\" y=\"-197.3\">[(None, 2048), (None, 1536), (None, 512), (None, 2048)]</text>\n",
       "<polyline fill=\"none\" points=\"598.5,-189.5 930.5,-189.5 \" stroke=\"#000000\"/>\n",
       "<text fill=\"#000000\" font-family=\"Times,serif\" font-size=\"14.00\" text-anchor=\"middle\" x=\"764.5\" y=\"-174.3\">(None, 6144)</text>\n",
       "</g>\n",
       "<!-- 140615333011184&#45;&gt;140614612136568 -->\n",
       "<g class=\"edge\" id=\"edge9\">\n",
       "<title>140615333011184-&gt;140614612136568</title>\n",
       "<path d=\"M290.1683,-249.4901C356.5435,-238.5157 436.0336,-225.3729 503.6707,-214.1899\" fill=\"none\" stroke=\"#000000\"/>\n",
       "<polygon fill=\"#000000\" points=\"504.2658,-217.6391 513.5609,-212.5547 503.1239,-210.7329 504.2658,-217.6391\" stroke=\"#000000\"/>\n",
       "</g>\n",
       "<!-- 140615005476456&#45;&gt;140614612136568 -->\n",
       "<g class=\"edge\" id=\"edge10\">\n",
       "<title>140615005476456-&gt;140614612136568</title>\n",
       "<path d=\"M533.9617,-249.3799C553.814,-239.3936 577.2036,-227.6279 597.9713,-217.1811\" fill=\"none\" stroke=\"#000000\"/>\n",
       "<polygon fill=\"#000000\" points=\"599.6383,-220.2605 606.9989,-212.6399 596.4926,-214.0071 599.6383,-220.2605\" stroke=\"#000000\"/>\n",
       "</g>\n",
       "<!-- 140615277054048&#45;&gt;140614612136568 -->\n",
       "<g class=\"edge\" id=\"edge11\">\n",
       "<title>140615277054048-&gt;140614612136568</title>\n",
       "<path d=\"M772.0383,-249.3799C752.186,-239.3936 728.7964,-227.6279 708.0287,-217.1811\" fill=\"none\" stroke=\"#000000\"/>\n",
       "<polygon fill=\"#000000\" points=\"709.5074,-214.0071 699.0011,-212.6399 706.3617,-220.2605 709.5074,-214.0071\" stroke=\"#000000\"/>\n",
       "</g>\n",
       "<!-- 140615306491720&#45;&gt;140614612136568 -->\n",
       "<g class=\"edge\" id=\"edge12\">\n",
       "<title>140615306491720-&gt;140614612136568</title>\n",
       "<path d=\"M997.0396,-249.4901C934.3601,-238.5607 859.3467,-225.4806 795.3842,-214.3275\" fill=\"none\" stroke=\"#000000\"/>\n",
       "<polygon fill=\"#000000\" points=\"795.6697,-210.8245 785.2171,-212.5547 794.4672,-217.7205 795.6697,-210.8245\" stroke=\"#000000\"/>\n",
       "</g>\n",
       "<!-- 140615306919496 -->\n",
       "<g class=\"node\" id=\"node12\">\n",
       "<title>140615306919496</title>\n",
       "<polygon fill=\"none\" points=\"518.5,-83.5 518.5,-129.5 787.5,-129.5 787.5,-83.5 518.5,-83.5\" stroke=\"#000000\"/>\n",
       "<text fill=\"#000000\" font-family=\"Times,serif\" font-size=\"14.00\" text-anchor=\"middle\" x=\"581\" y=\"-102.8\">dropout_5: Dropout</text>\n",
       "<polyline fill=\"none\" points=\"643.5,-83.5 643.5,-129.5 \" stroke=\"#000000\"/>\n",
       "<text fill=\"#000000\" font-family=\"Times,serif\" font-size=\"14.00\" text-anchor=\"middle\" x=\"671\" y=\"-114.3\">input:</text>\n",
       "<polyline fill=\"none\" points=\"643.5,-106.5 698.5,-106.5 \" stroke=\"#000000\"/>\n",
       "<text fill=\"#000000\" font-family=\"Times,serif\" font-size=\"14.00\" text-anchor=\"middle\" x=\"671\" y=\"-91.3\">output:</text>\n",
       "<polyline fill=\"none\" points=\"698.5,-83.5 698.5,-129.5 \" stroke=\"#000000\"/>\n",
       "<text fill=\"#000000\" font-family=\"Times,serif\" font-size=\"14.00\" text-anchor=\"middle\" x=\"743\" y=\"-114.3\">(None, 6144)</text>\n",
       "<polyline fill=\"none\" points=\"698.5,-106.5 787.5,-106.5 \" stroke=\"#000000\"/>\n",
       "<text fill=\"#000000\" font-family=\"Times,serif\" font-size=\"14.00\" text-anchor=\"middle\" x=\"743\" y=\"-91.3\">(None, 6144)</text>\n",
       "</g>\n",
       "<!-- 140614612136568&#45;&gt;140615306919496 -->\n",
       "<g class=\"edge\" id=\"edge13\">\n",
       "<title>140614612136568-&gt;140615306919496</title>\n",
       "<path d=\"M653,-166.3799C653,-158.1745 653,-148.7679 653,-139.8786\" fill=\"none\" stroke=\"#000000\"/>\n",
       "<polygon fill=\"#000000\" points=\"656.5001,-139.784 653,-129.784 649.5001,-139.784 656.5001,-139.784\" stroke=\"#000000\"/>\n",
       "</g>\n",
       "<!-- 140614609534648 -->\n",
       "<g class=\"node\" id=\"node13\">\n",
       "<title>140614609534648</title>\n",
       "<polygon fill=\"none\" points=\"530,-.5 530,-46.5 776,-46.5 776,-.5 530,-.5\" stroke=\"#000000\"/>\n",
       "<text fill=\"#000000\" font-family=\"Times,serif\" font-size=\"14.00\" text-anchor=\"middle\" x=\"581\" y=\"-19.8\">dense_5: Dense</text>\n",
       "<polyline fill=\"none\" points=\"632,-.5 632,-46.5 \" stroke=\"#000000\"/>\n",
       "<text fill=\"#000000\" font-family=\"Times,serif\" font-size=\"14.00\" text-anchor=\"middle\" x=\"659.5\" y=\"-31.3\">input:</text>\n",
       "<polyline fill=\"none\" points=\"632,-23.5 687,-23.5 \" stroke=\"#000000\"/>\n",
       "<text fill=\"#000000\" font-family=\"Times,serif\" font-size=\"14.00\" text-anchor=\"middle\" x=\"659.5\" y=\"-8.3\">output:</text>\n",
       "<polyline fill=\"none\" points=\"687,-.5 687,-46.5 \" stroke=\"#000000\"/>\n",
       "<text fill=\"#000000\" font-family=\"Times,serif\" font-size=\"14.00\" text-anchor=\"middle\" x=\"731.5\" y=\"-31.3\">(None, 6144)</text>\n",
       "<polyline fill=\"none\" points=\"687,-23.5 776,-23.5 \" stroke=\"#000000\"/>\n",
       "<text fill=\"#000000\" font-family=\"Times,serif\" font-size=\"14.00\" text-anchor=\"middle\" x=\"731.5\" y=\"-8.3\">(None, 1)</text>\n",
       "</g>\n",
       "<!-- 140615306919496&#45;&gt;140614609534648 -->\n",
       "<g class=\"edge\" id=\"edge14\">\n",
       "<title>140615306919496-&gt;140614609534648</title>\n",
       "<path d=\"M653,-83.3799C653,-75.1745 653,-65.7679 653,-56.8786\" fill=\"none\" stroke=\"#000000\"/>\n",
       "<polygon fill=\"#000000\" points=\"656.5001,-56.784 653,-46.784 649.5001,-56.784 656.5001,-56.784\" stroke=\"#000000\"/>\n",
       "</g>\n",
       "</g>\n",
       "</svg>"
      ],
      "text/plain": [
       "<IPython.core.display.SVG object>"
      ]
     },
     "execution_count": 48,
     "metadata": {},
     "output_type": "execute_result"
    }
   ],
   "source": [
    "SVG(model_to_dot(mixed2_model, show_shapes=True).create(prog='dot', format='svg'))"
   ]
  },
  {
   "cell_type": "code",
   "execution_count": 49,
   "metadata": {},
   "outputs": [
    {
     "name": "stdout",
     "output_type": "stream",
     "text": [
      "Found 19848 images belonging to 2 classes.\n",
      "Found 4961 images belonging to 2 classes.\n",
      "Found 12500 images belonging to 1 classes.\n"
     ]
    }
   ],
   "source": [
    "batch_size = 50\n",
    "train_generator, valid_generator, test_generator = build_generator(batch_size=batch_size, img_size=(299, 299))\n",
    "        \n",
    "inputgenerator = generate_generator_2inputs(gen=img_gen, directory='train3',\n",
    "                                            subset='training',\n",
    "                                            batch_size=batch_size)       \n",
    "\n",
    "validgenerator = generate_generator_2inputs(gen=img_gen, directory='train3',\n",
    "                                            subset='validation',\n",
    "                                            batch_size=batch_size)\n",
    "\n",
    "testgenerator = generate_generator_2inputs(gen=test_gen, directory='test2',\n",
    "                                           shuffle=False,\n",
    "                                           batch_size=batch_size) "
   ]
  },
  {
   "cell_type": "code",
   "execution_count": 50,
   "metadata": {},
   "outputs": [
    {
     "name": "stdout",
     "output_type": "stream",
     "text": [
      "Epoch 1/3\n",
      "Found 19848 images belonging to 2 classes.\n",
      "Found 19848 images belonging to 2 classes.\n",
      "395/396 [============================>.] - ETA: 0s - loss: 0.0863 - acc: 0.9670Found 4961 images belonging to 2 classes.\n",
      "Found 4961 images belonging to 2 classes.\n",
      "396/396 [==============================] - 415s 1s/step - loss: 0.0865 - acc: 0.9670 - val_loss: 0.0371 - val_acc: 0.9893\n",
      "Epoch 2/3\n",
      "396/396 [==============================] - 307s 776ms/step - loss: 0.0374 - acc: 0.9875 - val_loss: 0.0258 - val_acc: 0.9935\n",
      "Epoch 3/3\n",
      "396/396 [==============================] - 306s 774ms/step - loss: 0.0291 - acc: 0.9895 - val_loss: 0.0340 - val_acc: 0.9925\n"
     ]
    }
   ],
   "source": [
    "modelck_ft = ModelCheckpoint('mixed2_weights.{epoch:02d}-{val_loss:.2f}.hdf5',\n",
    "                            save_best_only=True,\n",
    "                            save_weights_only=True)\n",
    "mixed2_hist = mixed2_model.fit_generator(inputgenerator, epochs=3, \n",
    "                                       steps_per_epoch=train_steps,\n",
    "                                       validation_data=validgenerator,\n",
    "                                       validation_steps=valid_steps,\n",
    "                                       callbacks=[modelck_ft])"
   ]
  },
  {
   "cell_type": "code",
   "execution_count": 51,
   "metadata": {},
   "outputs": [
    {
     "data": {
      "image/png": "[encoded data removed]",
      "text/plain": [
       "<Figure size 432x288 with 2 Axes>"
      ]
     },
     "metadata": {
      "image/png": {
       "height": 263,
       "width": 380
      }
     },
     "output_type": "display_data"
    }
   ],
   "source": [
    "plot_hist('Mixed2 model ', mixed2_hist.history)"
   ]
  },
  {
   "cell_type": "code",
   "execution_count": 52,
   "metadata": {},
   "outputs": [
    {
     "name": "stdout",
     "output_type": "stream",
     "text": [
      "Found 12500 images belonging to 1 classes.\n",
      "Found 12500 images belonging to 1 classes.\n",
      "250/250 [==============================] - 161s 642ms/step\n"
     ]
    }
   ],
   "source": [
    "y_pred = mixed_model.predict_generator(testgenerator, verbose=1, steps=12500//batch_size)\n",
    "y_pred = y_pred.clip(min=0.005, max=0.995)"
   ]
  },
  {
   "cell_type": "code",
   "execution_count": 53,
   "metadata": {},
   "outputs": [
    {
     "data": {
      "text/html": [
       "<div>\n",
       "<style scoped>\n",
       "    .dataframe tbody tr th:only-of-type {\n",
       "        vertical-align: middle;\n",
       "    }\n",
       "\n",
       "    .dataframe tbody tr th {\n",
       "        vertical-align: top;\n",
       "    }\n",
       "\n",
       "    .dataframe thead th {\n",
       "        text-align: right;\n",
       "    }\n",
       "</style>\n",
       "<table border=\"1\" class=\"dataframe\">\n",
       "  <thead>\n",
       "    <tr style=\"text-align: right;\">\n",
       "      <th></th>\n",
       "      <th>id</th>\n",
       "      <th>label</th>\n",
       "    </tr>\n",
       "  </thead>\n",
       "  <tbody>\n",
       "    <tr>\n",
       "      <th>0</th>\n",
       "      <td>1</td>\n",
       "      <td>0.995</td>\n",
       "    </tr>\n",
       "    <tr>\n",
       "      <th>1</th>\n",
       "      <td>2</td>\n",
       "      <td>0.995</td>\n",
       "    </tr>\n",
       "    <tr>\n",
       "      <th>2</th>\n",
       "      <td>3</td>\n",
       "      <td>0.995</td>\n",
       "    </tr>\n",
       "    <tr>\n",
       "      <th>3</th>\n",
       "      <td>4</td>\n",
       "      <td>0.995</td>\n",
       "    </tr>\n",
       "    <tr>\n",
       "      <th>4</th>\n",
       "      <td>5</td>\n",
       "      <td>0.005</td>\n",
       "    </tr>\n",
       "    <tr>\n",
       "      <th>5</th>\n",
       "      <td>6</td>\n",
       "      <td>0.005</td>\n",
       "    </tr>\n",
       "    <tr>\n",
       "      <th>6</th>\n",
       "      <td>7</td>\n",
       "      <td>0.005</td>\n",
       "    </tr>\n",
       "    <tr>\n",
       "      <th>7</th>\n",
       "      <td>8</td>\n",
       "      <td>0.005</td>\n",
       "    </tr>\n",
       "    <tr>\n",
       "      <th>8</th>\n",
       "      <td>9</td>\n",
       "      <td>0.005</td>\n",
       "    </tr>\n",
       "    <tr>\n",
       "      <th>9</th>\n",
       "      <td>10</td>\n",
       "      <td>0.005</td>\n",
       "    </tr>\n",
       "  </tbody>\n",
       "</table>\n",
       "</div>"
      ],
      "text/plain": [
       "   id  label\n",
       "0   1  0.995\n",
       "1   2  0.995\n",
       "2   3  0.995\n",
       "3   4  0.995\n",
       "4   5  0.005\n",
       "5   6  0.005\n",
       "6   7  0.005\n",
       "7   8  0.005\n",
       "8   9  0.005\n",
       "9  10  0.005"
      ]
     },
     "execution_count": 53,
     "metadata": {},
     "output_type": "execute_result"
    }
   ],
   "source": [
    "mixed2_pred = pd.read_csv(\"sample_submission.csv\")\n",
    "for i, fname in enumerate(test_generator.filenames):\n",
    "    index = int(fname[fname.rfind('/')+1:fname.rfind('.')])\n",
    "    mixed2_pred.at[index-1, 'label'] = y_pred[i]\n",
    "\n",
    "mixed2_pred.to_csv('mixed2_pred.csv', index=False)\n",
    "mixed2_pred.head(10)"
   ]
  },
  {
   "cell_type": "markdown",
   "metadata": {},
   "source": [
    "# 四、结论"
   ]
  },
  {
   "cell_type": "code",
   "execution_count": null,
   "metadata": {},
   "outputs": [],
   "source": []
  }
 ],
 "metadata": {
  "kernelspec": {
   "display_name": "Python 3",
   "language": "python",
   "name": "python3"
  },
  "language_info": {
   "codemirror_mode": {
    "name": "ipython",
    "version": 3
   },
   "file_extension": ".py",
   "mimetype": "text/x-python",
   "name": "python",
   "nbconvert_exporter": "python",
   "pygments_lexer": "ipython3",
   "version": "3.6.4"
  }
 },
 "nbformat": 4,
 "nbformat_minor": 2
}
